{
 "cells": [
  {
   "cell_type": "code",
   "execution_count": 1,
   "id": "7f1b9dce-a865-4442-8b34-e4a13b6119e6",
   "metadata": {},
   "outputs": [
    {
     "name": "stderr",
     "output_type": "stream",
     "text": [
      "C:\\Users\\IuG_Lap1\\AppData\\Local\\Programs\\Python\\Python312\\Lib\\site-packages\\tqdm\\auto.py:21: TqdmWarning: IProgress not found. Please update jupyter and ipywidgets. See https://ipywidgets.readthedocs.io/en/stable/user_install.html\n",
      "  from .autonotebook import tqdm as notebook_tqdm\n"
     ]
    }
   ],
   "source": [
    "import pandas as pd\n",
    "from openai import OpenAI\n",
    "from dotenv import load_dotenv\n",
    "import time\n",
    "import argparse\n",
    "import csv\n",
    "import os\n",
    "\n",
    "from _0_prepare_tasks import clean_csv\n",
    "from _1_translate_tasks import translate_csv\n",
    "from gemini._2_solve_tasks_gemini import solve_tasks\n",
    "from gemini._3_technical_terms_gemini import extract_technical_terms\n",
    "from gemini._4_evaluate_solution_gemini import evaluate_solutions\n",
    "from _5_cross_lang_validation import compare_results"
   ]
  },
  {
   "cell_type": "markdown",
   "id": "bda284ff-aa16-4d96-8e39-7ff398b48879",
   "metadata": {},
   "source": [
    "## Data collection\n",
    "\n",
    "#### Cleaning exercises list file"
   ]
  },
  {
   "cell_type": "code",
   "execution_count": 2,
   "id": "3752429a-dbf3-4c35-99a6-21c9eb3a9716",
   "metadata": {},
   "outputs": [
    {
     "name": "stdout",
     "output_type": "stream",
     "text": [
      "Cleaned exercises saved to topic_areas_cleaned.csv\n"
     ]
    }
   ],
   "source": [
    "input_exercises = \"topic_areas.csv\"\n",
    "cleaned_exercises = \"topic_areas_cleaned.csv\"\n",
    "\n",
    "clean_csv(input_exercises, cleaned_exercises)\n",
    "\n",
    "print(f\"Cleaned exercises saved to {cleaned_exercises}\")"
   ]
  },
  {
   "cell_type": "markdown",
   "id": "c58b4d5b-41ef-4f39-b47c-1152c00eefed",
   "metadata": {},
   "source": [
    "### Translate exercises to German and Arabic"
   ]
  },
  {
   "cell_type": "code",
   "execution_count": 3,
   "id": "328ccaaa-e8bb-4fcc-8802-54c044e3de73",
   "metadata": {},
   "outputs": [],
   "source": [
    "translated_exercises_de = \"topic_areas_cleaned_de.csv\"\n",
    "translated_exercises_ar = \"topic_areas_cleaned_ar.csv\""
   ]
  },
  {
   "cell_type": "markdown",
   "id": "15b7ca59-8121-400f-9861-718976bc0421",
   "metadata": {},
   "source": [
    "**German translation**"
   ]
  },
  {
   "cell_type": "code",
   "execution_count": 4,
   "id": "49a625ed-9505-4b52-a22a-3ecd5c39e28b",
   "metadata": {},
   "outputs": [
    {
     "name": "stdout",
     "output_type": "stream",
     "text": [
      "Translating exercises from English to German...\n",
      "Translation to German complete. CSV file saved as: topic_areas_cleaned_de.csv.\n",
      "Translated tasks to German saved to topic_areas_cleaned_de.csv\n"
     ]
    }
   ],
   "source": [
    "translate_csv(cleaned_exercises, translated_exercises_de, target_language=\"German\")\n",
    "print(f\"Translated tasks to German saved to {translated_exercises_de}\")"
   ]
  },
  {
   "cell_type": "markdown",
   "id": "89d816a3-7840-4910-8862-70389ceccebf",
   "metadata": {},
   "source": [
    "**Arabic translation**"
   ]
  },
  {
   "cell_type": "code",
   "execution_count": 5,
   "id": "ecfc048b-6eb9-4970-872b-655cfc35beb8",
   "metadata": {},
   "outputs": [
    {
     "name": "stdout",
     "output_type": "stream",
     "text": [
      "Translating exercises from English to Arabic...\n",
      "Translation to Arabic complete. CSV file saved as: topic_areas_cleaned_ar.csv.\n",
      "Translated tasks to Arabic saved to topic_areas_cleaned_ar.csv\n"
     ]
    }
   ],
   "source": [
    "translate_csv(cleaned_exercises, translated_exercises_ar, target_language=\"Arabic\")\n",
    "print(f\"Translated tasks to Arabic saved to {translated_exercises_ar}\")"
   ]
  },
  {
   "cell_type": "markdown",
   "id": "ff82314c-b384-4b24-9b8b-04a7064cd2cd",
   "metadata": {},
   "source": [
    "## Solving Exercises"
   ]
  },
  {
   "cell_type": "code",
   "execution_count": 4,
   "id": "cf3e48e1-3eaf-49b6-9d8b-8f8c42a2d1b5",
   "metadata": {},
   "outputs": [],
   "source": [
    "solved_exercises_en = \"gemini/topic_areas_solutions_en.csv\"\n",
    "solved_exercises_de = \"gemini/topic_areas_solutions_de.csv\"\n",
    "solved_exercises_ar = \"gemini/topic_areas_solutions_ar.csv\""
   ]
  },
  {
   "cell_type": "markdown",
   "id": "daafbd0b-d423-40ad-968e-9643da9f7129",
   "metadata": {},
   "source": [
    "English Solutions:"
   ]
  },
  {
   "cell_type": "code",
   "execution_count": 5,
   "id": "3b3c0d99-c9c3-449e-a8ba-52b0989c2388",
   "metadata": {
    "scrolled": true
   },
   "outputs": [
    {
     "name": "stdout",
     "output_type": "stream",
     "text": [
      "Solving task 1: Draw 10 stars in the box and color 5 of them blue.\n",
      "Solving task 2: Count the number of apples in the picture and write the total number in the empty circle below.\n",
      "Solving task 3: Write the numbers from 1 to 20 in order on the lines provided.\n",
      "Solving task 4: Draw lines to connect the numbers 1 to 20 with their matching dot patterns.\n",
      "Solving task 5: Circle the number that has the same number of dots underneath it; for example if you see 5 dots circle the number 5.\n",
      "Solving task 6: Fill in the blanks with the correct number symbol that matches the dot patterns shown on the page.\n",
      "Solving task 7: Emma has 24 apples and she gives 13 apples to her friend; how many apples does she have left?\n",
      "Solving task 8: A farmer has 36 carrots and picks another 12 carrots; how many carrots does he have in total?\n",
      "Solving task 9: Liam read 45 pages of his book then finished 22 more pages; how many pages did he read altogether?\n",
      "Solving task 10: Sarah has 8 boxes of cookies and each box contains 12 cookies; how many cookies does she have in total?\n",
      "Solving task 11: A farmer has 240 apples that he wants to pack into baskets with each basket holding 15 apples; how many baskets does he need?\n",
      "Solving task 12: If a car travels 120 miles in 3 hours how many miles does it travel in each hour?\n",
      "Solving task 13: Liam has 347 marbles and he gives away 128 marbles to his friends; how many marbles does he have left?\n",
      "Solving task 14: A bakery sold 456 cupcakes in the morning and 289 cupcakes in the afternoon; how many cupcakes were sold in total?\n",
      "Solving task 15: Sarah has a collection of 864 stickers and she loses 275 stickers; how many stickers does she still have?\n",
      "Solving task 16: A bakery sells packs of cookies for $24 each and a customer wants to buy 4 packs; use the distributive property to find the total cost.\n",
      "Solving task 17: If a box contains 36 chocolates and is divided equally into 4 smaller boxes how many chocolates will be in each box using the distributive property?\n",
      "Solving task 18: A gardener needs to plant 29 flowers in rows of 3; apply the distributive property to calculate the total number of flowers he needs to plant.\n",
      "Solving task 19: Convert the fraction 3/8 into a decimal and a percentage.\n",
      "Solving task 20: A student scored 85% on a test; express this score as a fraction in simplest form.\n",
      "Solving task 21: If a shirt costs $45 and is on sale for 30% off determine the sale price in decimal form.\n",
      "Solving task 22: A submarine is at a depth of 150 meters below sea level; if it rises 75 meters what is its new depth?\n",
      "Solving task 23: A mountain climber ascends 200 meters then descends 50 meters; what is her final elevation change from sea level?\n",
      "Solving task 24: If a temperature drops from -5 degrees Celsius to -12 degrees Celsius overnight how many degrees did it drop?\n",
      "Solving task 25: Arrange the following ages of children at a birthday party from youngest to oldest: 8 5 9 7.\n",
      "Solving task 26: Put the following temperatures in order from the coldest to the warmest: 35°F 28°F 42°F 30°F.\n",
      "Solving task 27: Order the scores from a basketball game in ascending order: 45 32 58 27.\n",
      "Solving task 28: Order the following temperatures from coldest to warmest: -5°C 0°C -2°C and 3°C.\n",
      "Solving task 29: Arrange the following bank account balances from the least to the greatest value: -150.75 200.50 -45.30 and 75.00.\n",
      "Solving task 30: Put the following elevations in order from lowest to highest: -30 meters 50 meters -5 meters and 10 meters.\n",
      "Solving task 31: The sequence of plants in a garden grows as 2 5 8 __ __; find the next two numbers in the sequence.\n",
      "Solving task 32: A sprinting team completes their laps in the following times: 60 seconds 64 seconds 68 seconds __ __; what are the next two lap times?\n",
      "Solving task 33: A baker uses a pattern of ingredients: 1 cup of sugar 2 cups of flour 3 eggs __ __; identify the next two items in this ingredient pattern.\n",
      "Solving task 34: List all the factors of 36 and identify which of these factors are also prime numbers.\n",
      "Solving task 35: Calculate the first five multiples of 7 and explain the pattern you observe in those multiples.\n",
      "Solving task 36: If you have 48 apples and want to divide them equally into baskets determine all the possible numbers of baskets you can use by finding the factors of 48.\n",
      "Solving task 37: Find the least common multiple (LCM) of 8 and 12 to determine how often their multiples will coincide.\n",
      "Solving task 38: Calculate the greatest common divisor (GCD) of 20 and 30 to understand their largest shared factor.\n",
      "Solving task 39: A gardener wants to plant flowers in rows using 18 red flowers and 24 blue flowers; what is the LCM of 18 and 24 to find the smallest number of total flowers he can use without having leftovers?\n",
      "Solving task 40: Calculate the value of 3 raised to the power of 4 and then subtract the square root of 64 from that result.\n",
      "Solving task 41: If the area of a square garden is 81 square feet find the length of one side of the garden.\n",
      "Solving task 42: Determine the sum of the values obtained by finding the square root of 49 and raising 2 to the power of 5.\n",
      "Solving task 43: A model of a skyscraper is built at a scale of 1:250; if the actual height of the skyscraper is 300 meters what is the height of the model in centimeters?\n",
      "Solving task 44: A recipe for a large cake requires 3 cups of flour for every 2 cups of sugar; if a baker wants to make 6 cups of flour how many cups of sugar will they need?\n",
      "Solving task 45: A map uses a scale where 1 inch represents 30 miles; if two towns are 5 inches apart on the map what is the actual distance between them in miles?\n",
      "Solving task 46: A local bookstore sold 237 books last month and 185 books this month; estimate the total number of books sold by rounding to the nearest ten.\n",
      "Solving task 47: A farmer has 489 apples and plans to give away 275 apples; estimate how many apples he will have left by rounding to the nearest ten.\n",
      "Solving task 48: During a school fundraiser students raised $1248 and spent $673; estimate the total amount left by rounding to the nearest ten.\n",
      "Solving task 49: Jenna has \\(\\frac{2}{3}\\) of a pizza and her friend gives her \\(\\frac{1}{4}\\) of a pizza; how much pizza does Jenna have now?\n",
      "Solving task 50: A recipe requires \\(\\frac{5}{6}\\) cup of sugar but Jerry only has \\(\\frac{1}{3}\\) cup; how much more sugar does he need to gather?\n",
      "Solved tasks in English saved to gemini/topic_areas_solutions_en.csv\n",
      "               Topic Area                                   Topic  \\\n",
      "0  Numbers and operations  Understanding and representing numbers   \n",
      "1  Numbers and operations  Understanding and representing numbers   \n",
      "2  Numbers and operations  Understanding and representing numbers   \n",
      "3  Numbers and operations  Understanding and representing numbers   \n",
      "4  Numbers and operations  Understanding and representing numbers   \n",
      "\n",
      "  Progress Level                                           Exercise  \\\n",
      "0              B  Draw 10 stars in the box and color 5 of them b...   \n",
      "1              B  Count the number of apples in the picture and ...   \n",
      "2              B  Write the numbers from 1 to 20 in order on the...   \n",
      "3              B  Draw lines to connect the numbers 1 to 20 with...   \n",
      "4              B  Circle the number that has the same number of ...   \n",
      "\n",
      "                           gemini-1.5-flash solution  \n",
      "0  To complete this task:\\n\\n1. **Draw the Box:**...  \n",
      "1  To solve this task you need to carefully exami...  \n",
      "2  This task is straightforward.  Simply write th...  \n",
      "3  This task tests your ability to count.  Each d...  \n",
      "4  To solve this task you simply count the number...  \n"
     ]
    }
   ],
   "source": [
    "solve_tasks(cleaned_exercises, solved_exercises_en)\n",
    "print(f\"Solved tasks in English saved to {solved_exercises_en}\")\n",
    "\n",
    "df_en = pd.read_csv(solved_exercises_en)\n",
    "print(df_en.head())"
   ]
  },
  {
   "cell_type": "markdown",
   "id": "79f5de75-c7f6-420a-b450-0397aa7219b7",
   "metadata": {},
   "source": [
    "German Solutions:"
   ]
  },
  {
   "cell_type": "code",
   "execution_count": 6,
   "id": "a5f8ab32-0ee7-479d-aee2-847e6e8fad24",
   "metadata": {
    "scrolled": true
   },
   "outputs": [
    {
     "name": "stdout",
     "output_type": "stream",
     "text": [
      "Solving task 1: Zeichne 10 Sterne in das Kästchen und male 5 davon blau.\n",
      "Solving task 2: Zähle die Anzahl der Äpfel im Bild und schreibe die Gesamtsumme in den leeren Kreis darunter.\n",
      "Solving task 3: Schreibe die Zahlen von 1 bis 20 der Reihenfolge nach auf die vorgesehenen Linien.\n",
      "Solving task 4: Zeichne Linien, um die Zahlen 1 bis 20 mit ihren passenden Punktmustern zu verbinden.\n",
      "Solving task 5: Umkreise die Zahl, die die gleiche Anzahl von Punkten darunter hat; zum Beispiel, wenn du 5 Punkte siehst, umkreise die Zahl 5.\n",
      "Solving task 6: Fülle die Lücken mit dem richtigen Zahlensymbol aus, das den auf der Seite gezeigten Punktmustern entspricht.\n",
      "Solving task 7: Emma hat 24 Äpfel und sie gibt 13 Äpfel an ihre Freundin; wie viele Äpfel hat sie noch?\n",
      "Solving task 8: Ein Bauer hat 36 Karotten und pflückt weitere 12 Karotten; wie viele Karotten hat er insgesamt?\n",
      "Solving task 9: Liam hat 45 Seiten seines Buches gelesen und dann 22 weitere Seiten beendet; wie viele Seiten hat er insgesamt gelesen?\n",
      "Solving task 10: Sarah hat 8 Boxen mit Keksen, und jede Box enthält 12 Kekse; wie viele Kekse hat sie insgesamt?\n",
      "Solving task 11: Ein Bauer hat 240 Äpfel, die er in Körbe packen möchte, wobei jeder Korb 15 Äpfel fasst. Wie viele Körbe benötigt er?\n",
      "Solving task 12: Wenn ein Auto 120 Meilen in 3 Stunden fährt, wie viele Meilen legt es in jeder Stunde zurück?\n",
      "Solving task 13: Liam hat 347 Murmeln und er schenkt 128 Murmeln seinen Freunden; wie viele Murmeln hat er noch?\n",
      "Solving task 14: Eine Bäckerei verkaufte morgens 456 Cupcakes und nachmittags 289 Cupcakes; wie viele Cupcakes wurden insgesamt verkauft?\n",
      "Solving task 15: Sarah hat eine Sammlung von 864 Aufklebern und sie verliert 275 Aufkleber; wie viele Aufkleber hat sie noch?\n",
      "Solving task 16: Eine Bäckerei verkauft Päckchen Kekse für jeweils 24 $ und ein Kunde möchte 4 Päckchen kaufen; benutze das Distributivgesetz, um die Gesamtkosten zu ermitteln.\n",
      "Solving task 17: Wenn eine Box 36 Schokoladen enthält und gleichmäßig in 4 kleinere Boxen aufgeteilt wird, wie viele Schokoladen werden in jeder Box sein, indem die distributive Eigenschaft verwendet wird?\n",
      "Solving task 18: Ein Gärtner muss 29 Blumen in Reihen von 3 pflanzen; wende das distributive Gesetz an, um die Gesamtanzahl der Blumen zu berechnen, die er pflanzen muss.\n",
      "Solving task 19: Konvertieren Sie den Bruch 3/8 in eine Dezimalzahl und einen Prozentsatz.\n",
      "Solving task 20: Ein Schüler hat 85 % in einem Test erzielt; drücke diesen Wert als Bruch in der einfachsten Form aus.\n",
      "Solving task 21: Wenn ein Hemd 45 $ kostet und um 30 % reduziert ist, bestimme den Verkaufspreis in Dezimalform.\n",
      "Solving task 22: Ein U-Boot befindet sich in einer Tiefe von 150 Metern unter dem Meeresspiegel; wenn es um 75 Meter steigt, wie tief ist es dann?\n",
      "Solving task 23: Ein Bergsteiger steigt 200 Meter auf und sinkt dann 50 Meter ab; wie viel beträgt ihre endgültige Höhenänderung gegenüber dem Meeresspiegel?\n",
      "Solving task 24: Wenn die Temperatur über Nacht von -5 Grad Celsius auf -12 Grad Celsius sinkt, um wie viele Grad ist sie gefallen?\n",
      "Solving task 25: Ordne die folgenden Altersangaben von Kindern auf einer Geburtstagsfeier vom jüngsten zum ältesten: 8 5 9 7.\n",
      "Solving task 26: Ordne die folgenden Temperaturen von der kältesten zur wärmsten: 35°F, 28°F, 42°F, 30°F.\n",
      "Solving task 27: Ordne die Punkte aus einem Basketballspiel in aufsteigender Reihenfolge: 45, 32, 58, 27.\n",
      "Solving task 28: Ordne die folgenden Temperaturen von der kältesten zur wärmsten: -5°C, 0°C, -2°C und 3°C.\n",
      "Solving task 29: Ordne die folgenden Bankkontostände von dem niedrigsten zum höchsten Wert: -150,75 200,50 -45,30 und 75,00.\n",
      "Solving task 30: Setze die folgenden Höhen in aufsteigender Reihenfolge von der tiefsten zur höchsten: -30 Meter, -5 Meter, 10 Meter und 50 Meter.\n",
      "Solving task 31: Die Reihenfolge der Pflanzen in einem Garten wächst wie 2 5 8 __ __; finde die nächsten beiden Zahlen in der Reihenfolge.\n",
      "Solving task 32: Ein Sprintteam absolviert seine Runden in den folgenden Zeiten: 60 Sekunden, 64 Sekunden, 68 Sekunden __ __; was sind die nächsten beiden Rundenzeiten?\n",
      "Solving task 33: Ein Bäcker verwendet ein Muster von Zutaten: 1 Tasse Zucker, 2 Tassen Mehl, 3 Eier __ __; identifiziere die nächsten beiden Elemente in diesem Zutatenmuster.\n",
      "Solving task 34: Liste alle Faktoren von 36 auf und identifiziere, welche dieser Faktoren ebenfalls Primzahlen sind.\n",
      "Solving task 35: Berechne die ersten fünf Vielfachen von 7 und erkläre das Muster, das du in diesen Vielfachen beobachtest.\n",
      "Solving task 36: Wenn Sie 48 Äpfel haben und diese gleichmäßig in Körbe aufteilen möchten, bestimmen Sie alle möglichen Zahlen von Körben, die Sie verwenden können, indem Sie die Faktoren von 48 finden.\n",
      "Solving task 37: Finde das kleinste gemeinsame Vielfache (kgV) von 8 und 12, um zu bestimmen, wie oft ihre Vielfachen übereinstimmen werden.\n",
      "Solving task 38: Berechne den größten gemeinsamen Teiler (ggT) von 20 und 30, um ihren größten gemeinsamen Faktor zu verstehen.\n",
      "Solving task 39: Ein Gärtner möchte Blumen in Reihen pflanzen, und zwar mit 18 roten Blumen und 24 blauen Blumen. Was ist das kleinste gemeinsame Vielfache (kgV) von 18 und 24, um die kleinste Gesamtzahl an Blumen zu finden, die er verwenden kann, ohne dass Reste übrig bleiben?\n",
      "Solving task 40: Berechne den Wert von 3 hoch 4 und ziehe dann die Quadratwurzel von 64 von diesem Ergebnis ab.\n",
      "Solving task 41: Wenn die Fläche eines quadratischen Gartens 81 Quadratfuß beträgt, finde die Länge einer Seite des Gartens.\n",
      "Solving task 42: Bestimme die Summe der Werte, die durch das Ziehen der Quadratwurzel von 49 und das Erheben von 2 in die Potenz von 5 erhalten werden.\n",
      "Solving task 43: Ein Modell eines Wolkenkratzers wird im Maßstab 1:250 gebaut. Wenn die tatsächliche Höhe des Wolkenkratzers 300 Meter beträgt, wie hoch ist das Modell in Zentimetern?\n",
      "Solving task 44: Ein Rezept für einen großen Kuchen benötigt 3 Tassen Mehl für jede 2 Tassen Zucker; wenn ein Bäcker 6 Tassen Mehl verwenden möchte, wie viele Tassen Zucker benötigt er dann?\n",
      "Solving task 45: Eine Karte verwendet einen Maßstab, bei dem 1 Zoll 30 Meilen entspricht; wenn zwei Städte auf der Karte 5 Zoll voneinander entfernt sind, wie groß ist die tatsächliche Entfernung zwischen ihnen in Meilen?\n",
      "Solving task 46: Eine lokale Buchhandlung hat letzten Monat 237 Bücher und diesen Monat 185 Bücher verkauft; schätze die Gesamtzahl der verkauften Bücher, indem du auf die nächstgelegene Zehnerstelle rundest.\n",
      "Solving task 47: Ein Bauer hat 489 Äpfel und plant, 275 Äpfel zu verschenken; schätze, wie viele Äpfel er übrig haben wird, indem du auf die nächstliegende Zehnerstelle rundest.\n",
      "Solving task 48: Während einer Schulspendenaktion sammelten die Schüler 1248 $ und gaben 673 $ aus; schätzen Sie den insgesamt verbleibenden Betrag, indem Sie auf die nächste Zehnerstelle runden.\n",
      "Solving task 49: Jenna hat \\(\\frac{2}{3}\\) einer Pizza und ihre Freundin gibt ihr \\(\\frac{1}{4}\\) einer Pizza; wie viel Pizza hat Jenna jetzt?\n",
      "Solving task 50: Ein Rezept benötigt \\(\\frac{5}{6}\\) Tasse Zucker, aber Jerry hat nur \\(\\frac{1}{3}\\) Tasse; wie viel mehr Zucker muss er sammeln?\n",
      "Solved tasks in German saved to gemini/topic_areas_solutions_de.csv\n",
      "               Topic Area                                   Topic  \\\n",
      "0  Numbers and operations  Understanding and representing numbers   \n",
      "1  Numbers and operations  Understanding and representing numbers   \n",
      "2  Numbers and operations  Understanding and representing numbers   \n",
      "3  Numbers and operations  Understanding and representing numbers   \n",
      "4  Numbers and operations  Understanding and representing numbers   \n",
      "\n",
      "  Progress Level                                           Exercise  \\\n",
      "0              B  Zeichne 10 Sterne in das Kästchen und male 5 d...   \n",
      "1              B  Zähle die Anzahl der Äpfel im Bild und schreib...   \n",
      "2              B  Schreibe die Zahlen von 1 bis 20 der Reihenfol...   \n",
      "3              B  Zeichne Linien, um die Zahlen 1 bis 20 mit ihr...   \n",
      "4              B  Umkreise die Zahl, die die gleiche Anzahl von ...   \n",
      "\n",
      "                           gemini-1.5-flash solution  \n",
      "0  This task is asking you to draw.  Here's how t...  \n",
      "1  The task asks you to count the number of apple...  \n",
      "2  The task asks you to write the numbers from 1 ...  \n",
      "3  The task \"Zeichne Linien um die Zahlen 1 bis 2...  \n",
      "4  The task asks you to identify a number that co...  \n"
     ]
    }
   ],
   "source": [
    "solve_tasks(translated_exercises_de, solved_exercises_de)\n",
    "print(f\"Solved tasks in German saved to {solved_exercises_de}\")\n",
    "\n",
    "df_de = pd.read_csv(solved_exercises_de)\n",
    "print(df_de.head())"
   ]
  },
  {
   "cell_type": "markdown",
   "id": "3e53dfbc-daab-4e17-a3b6-e250778ef5f1",
   "metadata": {},
   "source": [
    "Arabic Solutions:"
   ]
  },
  {
   "cell_type": "code",
   "execution_count": 7,
   "id": "dc380105-075e-4cac-bc2b-37ce17bf9008",
   "metadata": {
    "scrolled": true
   },
   "outputs": [
    {
     "name": "stdout",
     "output_type": "stream",
     "text": [
      "Solving task 1: ارسم 10 نجوم في الصندوق والون 5 منها باللون الأزرق.\n",
      "Solving task 2: احسب عدد التفاح في الصورة واكتب العدد الكلي في الدائرة الفارغة أدناه.\n",
      "Solving task 3: اكتب الأرقام من 1 إلى 20 بالترتيب على الأسطر المتاحة.\n",
      "Solving task 4: ارسم خطوطاً لربط الأرقام من 1 إلى 20 بأنماط النقاط المطابقة لها.\n",
      "Solving task 5: قم بدائرة الرقم الذي يحتوي على نفس عدد النقاط الموجودة تحته؛ على سبيل المثال، إذا رأيت 5 نقاط، قم بدائرة الرقم 5.\n",
      "Solving task 6: املأ الفراغات بالرمز الرقمي الصحيح الذي يطابق أنماط النقاط الموضحة في الصفحة.\n",
      "Solving task 7: إيما لديها 24 تفاحة وقد أعطت 13 تفاحة لصديقتها؛ كم عدد التفاح المتبقي لديها؟\n",
      "Solving task 8: مزارع لديه 36 جزرة ويقطف 12 جزرة أخرى؛ كم عدد الجزر التي يمتلكها في المجموع؟\n",
      "Solving task 9: ليام قرأ 45 صفحة من كتابه ثم أنهى 22 صفحة أخرى؛ فكم صفحًة قرأها إجمالًا؟\n",
      "Solving task 10: سارة لديها 8 علب من الكعك وكل علبة تحتوي على 12 كعكة; كم عدد الكعك الذي تمتلكه في المجموع؟\n",
      "Solving task 11: يمتلك مزارع 240 تفاحة ويريد تعبئتها في سلال بحيث تحتوي كل سلة على 15 تفاحة؛ كم سلة يحتاج؟\n",
      "Solving task 12: إذا كانت السيارة تسير 120 ميلاً في 3 ساعات، فكم ميلًا تسير في كل ساعة؟\n",
      "Solving task 13: لدي ليام 347 كرة زجاجية وقد أعطى 128 كرة زجاجية لأصدقائه؛ كم كرة زجاجية تبقى لديه؟\n",
      "Solving task 14: وَكَزَانَتِ المخَبَزَة قد بَاعَت 456 كَعْكةً في الصَّباح و 289 كَعْكةً في المَسَاءِ؛ فَكَمْ كَمْيَّة الكَعَكات الَّتِي بِيعتْ بالإجمال؟\n",
      "Solving task 15: سارة لديها مجموعة من 864 ملصقًا وفقدت 275 ملصقًا؛ كم عدد الملصقات التي لا تزال لديها؟\n",
      "Solving task 16: مخبز يبيع عبوات من البسكويت مقابل 24 دولارًا لكل عبوة، ويريد زبون شراء 4 عبوات؛ استخدم خاصية التوزيع لإيجاد التكلفة الإجمالية.\n",
      "Solving task 17: إذا كان هناك صندوق يحتوي على 36 قطعة من الشوكولاتة وتم تقسيمه بالتساوي إلى 4 صناديق أصغر، فكم سيكون عدد قطع الشوكولاتة في كل صندوق باستخدام خاصية التوزيع؟\n",
      "Solving task 18: يحتاج البستاني إلى زراعة 29 زهرة في صفوف مكونة من 3 زهور لكل صف؛ استخدم خاصية التوزيع لحساب العدد الإجمالي للزهور التي يحتاج لزراعتها.\n",
      "Solving task 19: قم بتحويل الكسر 3/8 إلى عدد عشري ونسبة مئوية.\n",
      "Solving task 20: طالب حصل على 85% في اختبار؛ عبّر عن هذه النتيجة ككسر في أبسط صورة.\n",
      "Solving task 21: إذا كانت قميص يكلف 45 دولارًا وفيه خصم قدره 30%، حدد سعر البيع بالشكل العشري.\n",
      "Solving task 22: الغواصة على عمق 150 متر تحت سطح البحر؛ إذا ارتفعت 75 متر، ما هو عمقها الجديد؟\n",
      "Solving task 23: يبدأ متسلق الجبال بالصعود 200 متر ثم ينزل 50 متر؛ ما هو التغير النهائي في ارتفاعه عن مستوى سطح البحر؟\n",
      "Solving task 24: إذا انخفضت درجة الحرارة من -5 درجات مئوية إلى -12 درجة مئوية في الليل، فكم درجة انخفضت؟\n",
      "Solving task 25: ترتيب أعمار الأطفال التالية في حفلة عيد الميلاد من الأصغر إلى الأكبر: 8 5 9 7.\n",
      "Solving task 26: ترجم الوصف التالي للتمرين من الإنجليزية إلى العربية: رتب الدرجات الحرارية التالية من الأبرد إلى الأكثر دفئًا: 35°F 28°F 42°F 30°F.\n",
      "Solving task 27: قم بترتيب النقاط من مباراة كرة السلة بالترتيب التصاعدي: 45 32 58 27.\n",
      "Solving task 28: رتب درجات الحرارة التالية من الأبرد إلى الأكثر دفئًا: -5°C 0°C -2°C و3°C.\n",
      "Solving task 29: قم بترتيب أرصدة حسابات البنك التالية من الأقل إلى الأعلى: -150.75، 200.50، -45.30، و75.00.\n",
      "Solving task 30: رتب الارتفاعات التالية من الأدنى إلى الأعلى: -30 متر، -5 متر، 10 متر، 50 متر.\n",
      "Solving task 31: تتسلسل النباتات في الحديقة كالتالي: 2 5 8 __ __؛ ابحث عن الرقمين التاليين في السلسلة.\n",
      "Solving task 32: تمتلك فريق الجري الأوقات التالية لإنهاء لفاتها: 60 ثانية، 64 ثانية، 68 ثانية، __ __؛ ما هما وقتا اللفتين القادمتين؟\n",
      "Solving task 33: يمتدح خباز نمطًا من المكونات: 1 كوب سكر، 2 كوب دقيق، 3 بيضات __ __؛ حدد العنصرين التاليين في هذا النمط.\n",
      "Solving task 34: قُم بتدوين جميع عوامل العدد 36 وحدد أي من هذه العوامل هي أيضًا أعداد أولية.\n",
      "Solving task 35: احسب الأعداد المضاعفة الخمسة الأولى للعدد 7 واشرح النمط الذي تلاحظه في تلك المضاعفات.\n",
      "Solving task 36: إذا كان لديك 48 تفاحة وترغب في تقسيمها بالتساوي بين السلال، حدد جميع الأعداد الممكنة للسلال التي يمكنك استخدامها من خلال إيجاد عوامل العدد 48.\n",
      "Solving task 37: ابحث عن المضاعف المشترك الأصغر (LCM) للعددين 8 و 12 لتحديد مدى تكرار تلاقي مضاعفاتهما.\n",
      "Solving task 38: احسب القاسم المشترك الأكبر (GCD) للعددين 20 و 30 لفهم أكبر عامل مشترك بينهما.\n",
      "Solving task 39: يريد بستاني زرع الزهور في صفوف باستخدام 18 زهرة حمراء و 24 زهرة زرقاء؛ ما هو المضاعف المشترك الأصغر (LCM) للعددين 18 و 24 لإيجاد أقل عدد من الزهور الكلي الذي يمكنه استخدامه دون أن يتبقى أي زهور؟\n",
      "Solving task 40: احسب قيمة 3 مرفوعة إلى القوة 4 ثم اطرح الجذر التربيعي لـ 64 من هذه النتيجة.\n",
      "Solving task 41: إذا كانت مساحة حديقة مربعة 81 قدمًا مربعًا، فحدد طول أحد جوانب الحديقة.\n",
      "Solving task 42: حدد مجموع القيم الناتجة عن حساب الجذر التربيعي لـ 49 ورفع 2 إلى القوة 5.\n",
      "Solving task 43: تم بناء نموذج لناطحة سحاب بمقياس 1:250؛ إذا كانت الارتفاع الحقيقي لناطحة السحاب هو 300 متر، فما هو ارتفاع النموذج بالسنتمترات؟\n",
      "Solving task 44: وصفة لكعكة كبيرة تتطلب 3 أكواب من الدقيق مقابل كل 2 كوب من السكر؛ إذا أراد الخباز أن يستخدم 6 أكواب من الدقيق، فكم كوبًا من السكر سيحتاج؟\n",
      "Solving task 45: خريطة تستخدم مقياسًا حيث تمثل بوصة واحدة 30 ميلاً؛ إذا كانت بلدتان تبعدان 5 بوصات عن بعضهما على الخريطة، فما هي المسافة الفعلية بينهما بالميل؟\n",
      "Solving task 46: مكتبة محلية بيعت 237 كتابًا في الشهر الماضي و185 كتابًا في هذا الشهر؛ قدّر العدد الإجمالي للكتب المبيعة عن طريق التقريب لأقرب عشرة.\n",
      "Solving task 47: مزارع لديه 489 تفاحة وينوي إعطاء 275 تفاحة؛ قم بتقدير عدد التفاح الذي سيتبقى لديه عن طريق التقريب إلى أقرب عشرة.\n",
      "Solving task 48: خلال حملة جمع التبرعات في المدرسة، جمع الطلاب 1248 دولارًا وأنفقوا 673 دولارًا؛ قم بتقدير المبلغ الإجمالي المتبقي عن طريق التقريب إلى أقرب عشرة.\n",
      "Solving task 49: جينا لديها \\(\\frac{2}{3}\\) من البيتزا وصديقتها تعطيها \\(\\frac{1}{4}\\) من البيتزا؛ كم مقدار البيتزا التي تمتلكها جينا الآن؟\n",
      "Solving task 50: وصف التمرين هو: تحتاج الوصفة إلى \\(\\frac{5}{6}\\) كوب من السكر، لكن جيري لديه فقط \\(\\frac{1}{3}\\) كوب؛ كم كوبًا إضافيًا من السكر يحتاج لجمعه؟\n",
      "Solved tasks in Arabic saved to gemini/topic_areas_solutions_ar.csv\n",
      "               Topic Area                                   Topic  \\\n",
      "0  Numbers and operations  Understanding and representing numbers   \n",
      "1  Numbers and operations  Understanding and representing numbers   \n",
      "2  Numbers and operations  Understanding and representing numbers   \n",
      "3  Numbers and operations  Understanding and representing numbers   \n",
      "4  Numbers and operations  Understanding and representing numbers   \n",
      "\n",
      "  Progress Level                                           Exercise  \\\n",
      "0              B  ارسم 10 نجوم في الصندوق والون 5 منها باللون ال...   \n",
      "1              B  احسب عدد التفاح في الصورة واكتب العدد الكلي في...   \n",
      "2              B  اكتب الأرقام من 1 إلى 20 بالترتيب على الأسطر ا...   \n",
      "3              B  ارسم خطوطاً لربط الأرقام من 1 إلى 20 بأنماط ال...   \n",
      "4              B  قم بدائرة الرقم الذي يحتوي على نفس عدد النقاط ...   \n",
      "\n",
      "                           gemini-1.5-flash solution  \n",
      "0  The task says: \"Draw 10 stars in the box and c...  \n",
      "1  This task asks you to count the apples in a pi...  \n",
      "2  The task says: \"Write the numbers from 1 to 20...  \n",
      "3  This task asks you to draw lines connecting nu...  \n",
      "4  This task instructs you to circle the number t...  \n"
     ]
    }
   ],
   "source": [
    "solve_tasks(translated_exercises_ar, solved_exercises_ar)\n",
    "print(f\"Solved tasks in Arabic saved to {solved_exercises_ar}\")\n",
    "\n",
    "df_ar = pd.read_csv(solved_exercises_ar)\n",
    "print(df_ar.head())"
   ]
  },
  {
   "cell_type": "markdown",
   "id": "8ad35943-4110-421b-a849-0407e88f8e8e",
   "metadata": {},
   "source": [
    "## Extracting technical terms"
   ]
  },
  {
   "cell_type": "code",
   "execution_count": 8,
   "id": "09360861-2f0a-4bad-afec-6f2610da2938",
   "metadata": {},
   "outputs": [],
   "source": [
    "terms_en = \"gemini/technical_terms_en.csv\"\n",
    "terms_de = \"gemini/technical_terms_de.csv\"\n",
    "terms_ar = \"gemini/technical_terms_ar.csv\""
   ]
  },
  {
   "cell_type": "code",
   "execution_count": 9,
   "id": "ceb5125e-397e-4473-98a6-f2a4b6331c9b",
   "metadata": {},
   "outputs": [],
   "source": [
    "import importlib\n",
    "import gemini._3_technical_terms_gemini\n",
    "\n",
    "importlib.reload(gemini._3_technical_terms_gemini)\n",
    "from gemini._3_technical_terms_gemini import extract_technical_terms"
   ]
  },
  {
   "cell_type": "markdown",
   "id": "82216d0d-ca2c-47c2-8821-f4d6b87a0001",
   "metadata": {},
   "source": [
    "English terms"
   ]
  },
  {
   "cell_type": "code",
   "execution_count": 10,
   "id": "b88f5c0c-4911-4f2c-b16e-73b0aef8f1cb",
   "metadata": {
    "scrolled": true
   },
   "outputs": [
    {
     "name": "stdout",
     "output_type": "stream",
     "text": [
      "Extracting technical terms for task 1: Draw 10 stars in the box and color 5 of them blue.\n",
      "Extracting technical terms for task 2: Count the number of apples in the picture and write the total number in the empty circle below.\n",
      "Extracting technical terms for task 3: Write the numbers from 1 to 20 in order on the lines provided.\n",
      "Extracting technical terms for task 4: Draw lines to connect the numbers 1 to 20 with their matching dot patterns.\n",
      "Extracting technical terms for task 5: Circle the number that has the same number of dots underneath it; for example if you see 5 dots circle the number 5.\n",
      "Extracting technical terms for task 6: Fill in the blanks with the correct number symbol that matches the dot patterns shown on the page.\n",
      "Extracting technical terms for task 7: Emma has 24 apples and she gives 13 apples to her friend; how many apples does she have left?\n",
      "Extracting technical terms for task 8: A farmer has 36 carrots and picks another 12 carrots; how many carrots does he have in total?\n",
      "Extracting technical terms for task 9: Liam read 45 pages of his book then finished 22 more pages; how many pages did he read altogether?\n",
      "Extracting technical terms for task 10: Sarah has 8 boxes of cookies and each box contains 12 cookies; how many cookies does she have in total?\n",
      "Extracting technical terms for task 11: A farmer has 240 apples that he wants to pack into baskets with each basket holding 15 apples; how many baskets does he need?\n",
      "Extracting technical terms for task 12: If a car travels 120 miles in 3 hours how many miles does it travel in each hour?\n",
      "Extracting technical terms for task 13: Liam has 347 marbles and he gives away 128 marbles to his friends; how many marbles does he have left?\n",
      "Extracting technical terms for task 14: A bakery sold 456 cupcakes in the morning and 289 cupcakes in the afternoon; how many cupcakes were sold in total?\n",
      "Extracting technical terms for task 15: Sarah has a collection of 864 stickers and she loses 275 stickers; how many stickers does she still have?\n",
      "Extracting technical terms for task 16: A bakery sells packs of cookies for $24 each and a customer wants to buy 4 packs; use the distributive property to find the total cost.\n",
      "Extracting technical terms for task 17: If a box contains 36 chocolates and is divided equally into 4 smaller boxes how many chocolates will be in each box using the distributive property?\n",
      "Extracting technical terms for task 18: A gardener needs to plant 29 flowers in rows of 3; apply the distributive property to calculate the total number of flowers he needs to plant.\n",
      "Extracting technical terms for task 19: Convert the fraction 3/8 into a decimal and a percentage.\n",
      "Extracting technical terms for task 20: A student scored 85% on a test; express this score as a fraction in simplest form.\n",
      "Extracting technical terms for task 21: If a shirt costs $45 and is on sale for 30% off determine the sale price in decimal form.\n",
      "Extracting technical terms for task 22: A submarine is at a depth of 150 meters below sea level; if it rises 75 meters what is its new depth?\n",
      "Extracting technical terms for task 23: A mountain climber ascends 200 meters then descends 50 meters; what is her final elevation change from sea level?\n",
      "Extracting technical terms for task 24: If a temperature drops from -5 degrees Celsius to -12 degrees Celsius overnight how many degrees did it drop?\n",
      "Extracting technical terms for task 25: Arrange the following ages of children at a birthday party from youngest to oldest: 8 5 9 7.\n",
      "Extracting technical terms for task 26: Put the following temperatures in order from the coldest to the warmest: 35°F 28°F 42°F 30°F.\n",
      "Extracting technical terms for task 27: Order the scores from a basketball game in ascending order: 45 32 58 27.\n",
      "Extracting technical terms for task 28: Order the following temperatures from coldest to warmest: -5°C 0°C -2°C and 3°C.\n",
      "Extracting technical terms for task 29: Arrange the following bank account balances from the least to the greatest value: -150.75 200.50 -45.30 and 75.00.\n",
      "Extracting technical terms for task 30: Put the following elevations in order from lowest to highest: -30 meters 50 meters -5 meters and 10 meters.\n",
      "Extracting technical terms for task 31: The sequence of plants in a garden grows as 2 5 8 __ __; find the next two numbers in the sequence.\n",
      "Extracting technical terms for task 32: A sprinting team completes their laps in the following times: 60 seconds 64 seconds 68 seconds __ __; what are the next two lap times?\n",
      "Extracting technical terms for task 33: A baker uses a pattern of ingredients: 1 cup of sugar 2 cups of flour 3 eggs __ __; identify the next two items in this ingredient pattern.\n",
      "Extracting technical terms for task 34: List all the factors of 36 and identify which of these factors are also prime numbers.\n",
      "Extracting technical terms for task 35: Calculate the first five multiples of 7 and explain the pattern you observe in those multiples.\n",
      "Extracting technical terms for task 36: If you have 48 apples and want to divide them equally into baskets determine all the possible numbers of baskets you can use by finding the factors of 48.\n",
      "Extracting technical terms for task 37: Find the least common multiple (LCM) of 8 and 12 to determine how often their multiples will coincide.\n",
      "Extracting technical terms for task 38: Calculate the greatest common divisor (GCD) of 20 and 30 to understand their largest shared factor.\n",
      "Extracting technical terms for task 39: A gardener wants to plant flowers in rows using 18 red flowers and 24 blue flowers; what is the LCM of 18 and 24 to find the smallest number of total flowers he can use without having leftovers?\n",
      "Extracting technical terms for task 40: Calculate the value of 3 raised to the power of 4 and then subtract the square root of 64 from that result.\n",
      "Extracting technical terms for task 41: If the area of a square garden is 81 square feet find the length of one side of the garden.\n",
      "Extracting technical terms for task 42: Determine the sum of the values obtained by finding the square root of 49 and raising 2 to the power of 5.\n",
      "Extracting technical terms for task 43: A model of a skyscraper is built at a scale of 1:250; if the actual height of the skyscraper is 300 meters what is the height of the model in centimeters?\n",
      "Extracting technical terms for task 44: A recipe for a large cake requires 3 cups of flour for every 2 cups of sugar; if a baker wants to make 6 cups of flour how many cups of sugar will they need?\n",
      "Extracting technical terms for task 45: A map uses a scale where 1 inch represents 30 miles; if two towns are 5 inches apart on the map what is the actual distance between them in miles?\n",
      "Extracting technical terms for task 46: A local bookstore sold 237 books last month and 185 books this month; estimate the total number of books sold by rounding to the nearest ten.\n",
      "Extracting technical terms for task 47: A farmer has 489 apples and plans to give away 275 apples; estimate how many apples he will have left by rounding to the nearest ten.\n",
      "Extracting technical terms for task 48: During a school fundraiser students raised $1248 and spent $673; estimate the total amount left by rounding to the nearest ten.\n",
      "Extracting technical terms for task 49: Jenna has \\(\\frac{2}{3}\\) of a pizza and her friend gives her \\(\\frac{1}{4}\\) of a pizza; how much pizza does Jenna have now?\n",
      "Extracting technical terms for task 50: A recipe requires \\(\\frac{5}{6}\\) cup of sugar but Jerry only has \\(\\frac{1}{3}\\) cup; how much more sugar does he need to gather?\n",
      "Extracted technical terms in English saved to gemini/technical_terms_en.csv\n"
     ]
    }
   ],
   "source": [
    "extract_technical_terms(cleaned_exercises, terms_en, target_language=\"en\")\n",
    "print(f\"Extracted technical terms in English saved to {terms_en}\")"
   ]
  },
  {
   "cell_type": "markdown",
   "id": "8dc1ea3a-9d99-4acb-b98f-141a8cbb7edb",
   "metadata": {},
   "source": [
    "German terms"
   ]
  },
  {
   "cell_type": "code",
   "execution_count": 11,
   "id": "14134b2b-fbde-4592-8c0c-7cb78877fe37",
   "metadata": {
    "scrolled": true
   },
   "outputs": [
    {
     "name": "stdout",
     "output_type": "stream",
     "text": [
      "Extracting technical terms for task 1: Zeichne 10 Sterne in das Kästchen und male 5 davon blau.\n",
      "Extracting technical terms for task 2: Zähle die Anzahl der Äpfel im Bild und schreibe die Gesamtsumme in den leeren Kreis darunter.\n",
      "Extracting technical terms for task 3: Schreibe die Zahlen von 1 bis 20 der Reihenfolge nach auf die vorgesehenen Linien.\n",
      "Extracting technical terms for task 4: Zeichne Linien, um die Zahlen 1 bis 20 mit ihren passenden Punktmustern zu verbinden.\n",
      "Extracting technical terms for task 5: Umkreise die Zahl, die die gleiche Anzahl von Punkten darunter hat; zum Beispiel, wenn du 5 Punkte siehst, umkreise die Zahl 5.\n",
      "Extracting technical terms for task 6: Fülle die Lücken mit dem richtigen Zahlensymbol aus, das den auf der Seite gezeigten Punktmustern entspricht.\n",
      "Extracting technical terms for task 7: Emma hat 24 Äpfel und sie gibt 13 Äpfel an ihre Freundin; wie viele Äpfel hat sie noch?\n",
      "Extracting technical terms for task 8: Ein Bauer hat 36 Karotten und pflückt weitere 12 Karotten; wie viele Karotten hat er insgesamt?\n",
      "Extracting technical terms for task 9: Liam hat 45 Seiten seines Buches gelesen und dann 22 weitere Seiten beendet; wie viele Seiten hat er insgesamt gelesen?\n",
      "Extracting technical terms for task 10: Sarah hat 8 Boxen mit Keksen, und jede Box enthält 12 Kekse; wie viele Kekse hat sie insgesamt?\n",
      "Extracting technical terms for task 11: Ein Bauer hat 240 Äpfel, die er in Körbe packen möchte, wobei jeder Korb 15 Äpfel fasst. Wie viele Körbe benötigt er?\n",
      "Extracting technical terms for task 12: Wenn ein Auto 120 Meilen in 3 Stunden fährt, wie viele Meilen legt es in jeder Stunde zurück?\n",
      "Extracting technical terms for task 13: Liam hat 347 Murmeln und er schenkt 128 Murmeln seinen Freunden; wie viele Murmeln hat er noch?\n",
      "Extracting technical terms for task 14: Eine Bäckerei verkaufte morgens 456 Cupcakes und nachmittags 289 Cupcakes; wie viele Cupcakes wurden insgesamt verkauft?\n",
      "Extracting technical terms for task 15: Sarah hat eine Sammlung von 864 Aufklebern und sie verliert 275 Aufkleber; wie viele Aufkleber hat sie noch?\n",
      "Extracting technical terms for task 16: Eine Bäckerei verkauft Päckchen Kekse für jeweils 24 $ und ein Kunde möchte 4 Päckchen kaufen; benutze das Distributivgesetz, um die Gesamtkosten zu ermitteln.\n",
      "Extracting technical terms for task 17: Wenn eine Box 36 Schokoladen enthält und gleichmäßig in 4 kleinere Boxen aufgeteilt wird, wie viele Schokoladen werden in jeder Box sein, indem die distributive Eigenschaft verwendet wird?\n",
      "Extracting technical terms for task 18: Ein Gärtner muss 29 Blumen in Reihen von 3 pflanzen; wende das distributive Gesetz an, um die Gesamtanzahl der Blumen zu berechnen, die er pflanzen muss.\n",
      "Extracting technical terms for task 19: Konvertieren Sie den Bruch 3/8 in eine Dezimalzahl und einen Prozentsatz.\n",
      "Extracting technical terms for task 20: Ein Schüler hat 85 % in einem Test erzielt; drücke diesen Wert als Bruch in der einfachsten Form aus.\n",
      "Extracting technical terms for task 21: Wenn ein Hemd 45 $ kostet und um 30 % reduziert ist, bestimme den Verkaufspreis in Dezimalform.\n",
      "Extracting technical terms for task 22: Ein U-Boot befindet sich in einer Tiefe von 150 Metern unter dem Meeresspiegel; wenn es um 75 Meter steigt, wie tief ist es dann?\n",
      "Extracting technical terms for task 23: Ein Bergsteiger steigt 200 Meter auf und sinkt dann 50 Meter ab; wie viel beträgt ihre endgültige Höhenänderung gegenüber dem Meeresspiegel?\n",
      "Extracting technical terms for task 24: Wenn die Temperatur über Nacht von -5 Grad Celsius auf -12 Grad Celsius sinkt, um wie viele Grad ist sie gefallen?\n",
      "Extracting technical terms for task 25: Ordne die folgenden Altersangaben von Kindern auf einer Geburtstagsfeier vom jüngsten zum ältesten: 8 5 9 7.\n",
      "Extracting technical terms for task 26: Ordne die folgenden Temperaturen von der kältesten zur wärmsten: 35°F, 28°F, 42°F, 30°F.\n",
      "Extracting technical terms for task 27: Ordne die Punkte aus einem Basketballspiel in aufsteigender Reihenfolge: 45, 32, 58, 27.\n",
      "Extracting technical terms for task 28: Ordne die folgenden Temperaturen von der kältesten zur wärmsten: -5°C, 0°C, -2°C und 3°C.\n",
      "Extracting technical terms for task 29: Ordne die folgenden Bankkontostände von dem niedrigsten zum höchsten Wert: -150,75 200,50 -45,30 und 75,00.\n",
      "Extracting technical terms for task 30: Setze die folgenden Höhen in aufsteigender Reihenfolge von der tiefsten zur höchsten: -30 Meter, -5 Meter, 10 Meter und 50 Meter.\n",
      "Extracting technical terms for task 31: Die Reihenfolge der Pflanzen in einem Garten wächst wie 2 5 8 __ __; finde die nächsten beiden Zahlen in der Reihenfolge.\n",
      "Extracting technical terms for task 32: Ein Sprintteam absolviert seine Runden in den folgenden Zeiten: 60 Sekunden, 64 Sekunden, 68 Sekunden __ __; was sind die nächsten beiden Rundenzeiten?\n",
      "Extracting technical terms for task 33: Ein Bäcker verwendet ein Muster von Zutaten: 1 Tasse Zucker, 2 Tassen Mehl, 3 Eier __ __; identifiziere die nächsten beiden Elemente in diesem Zutatenmuster.\n",
      "Extracting technical terms for task 34: Liste alle Faktoren von 36 auf und identifiziere, welche dieser Faktoren ebenfalls Primzahlen sind.\n",
      "Extracting technical terms for task 35: Berechne die ersten fünf Vielfachen von 7 und erkläre das Muster, das du in diesen Vielfachen beobachtest.\n",
      "Extracting technical terms for task 36: Wenn Sie 48 Äpfel haben und diese gleichmäßig in Körbe aufteilen möchten, bestimmen Sie alle möglichen Zahlen von Körben, die Sie verwenden können, indem Sie die Faktoren von 48 finden.\n",
      "Extracting technical terms for task 37: Finde das kleinste gemeinsame Vielfache (kgV) von 8 und 12, um zu bestimmen, wie oft ihre Vielfachen übereinstimmen werden.\n",
      "Extracting technical terms for task 38: Berechne den größten gemeinsamen Teiler (ggT) von 20 und 30, um ihren größten gemeinsamen Faktor zu verstehen.\n",
      "Extracting technical terms for task 39: Ein Gärtner möchte Blumen in Reihen pflanzen, und zwar mit 18 roten Blumen und 24 blauen Blumen. Was ist das kleinste gemeinsame Vielfache (kgV) von 18 und 24, um die kleinste Gesamtzahl an Blumen zu finden, die er verwenden kann, ohne dass Reste übrig bleiben?\n",
      "Extracting technical terms for task 40: Berechne den Wert von 3 hoch 4 und ziehe dann die Quadratwurzel von 64 von diesem Ergebnis ab.\n",
      "Extracting technical terms for task 41: Wenn die Fläche eines quadratischen Gartens 81 Quadratfuß beträgt, finde die Länge einer Seite des Gartens.\n",
      "Extracting technical terms for task 42: Bestimme die Summe der Werte, die durch das Ziehen der Quadratwurzel von 49 und das Erheben von 2 in die Potenz von 5 erhalten werden.\n",
      "Extracting technical terms for task 43: Ein Modell eines Wolkenkratzers wird im Maßstab 1:250 gebaut. Wenn die tatsächliche Höhe des Wolkenkratzers 300 Meter beträgt, wie hoch ist das Modell in Zentimetern?\n",
      "Extracting technical terms for task 44: Ein Rezept für einen großen Kuchen benötigt 3 Tassen Mehl für jede 2 Tassen Zucker; wenn ein Bäcker 6 Tassen Mehl verwenden möchte, wie viele Tassen Zucker benötigt er dann?\n",
      "Extracting technical terms for task 45: Eine Karte verwendet einen Maßstab, bei dem 1 Zoll 30 Meilen entspricht; wenn zwei Städte auf der Karte 5 Zoll voneinander entfernt sind, wie groß ist die tatsächliche Entfernung zwischen ihnen in Meilen?\n",
      "Extracting technical terms for task 46: Eine lokale Buchhandlung hat letzten Monat 237 Bücher und diesen Monat 185 Bücher verkauft; schätze die Gesamtzahl der verkauften Bücher, indem du auf die nächstgelegene Zehnerstelle rundest.\n",
      "Extracting technical terms for task 47: Ein Bauer hat 489 Äpfel und plant, 275 Äpfel zu verschenken; schätze, wie viele Äpfel er übrig haben wird, indem du auf die nächstliegende Zehnerstelle rundest.\n",
      "Extracting technical terms for task 48: Während einer Schulspendenaktion sammelten die Schüler 1248 $ und gaben 673 $ aus; schätzen Sie den insgesamt verbleibenden Betrag, indem Sie auf die nächste Zehnerstelle runden.\n",
      "Extracting technical terms for task 49: Jenna hat \\(\\frac{2}{3}\\) einer Pizza und ihre Freundin gibt ihr \\(\\frac{1}{4}\\) einer Pizza; wie viel Pizza hat Jenna jetzt?\n",
      "Extracting technical terms for task 50: Ein Rezept benötigt \\(\\frac{5}{6}\\) Tasse Zucker, aber Jerry hat nur \\(\\frac{1}{3}\\) Tasse; wie viel mehr Zucker muss er sammeln?\n",
      "Extracted technical terms in German saved to gemini/technical_terms_de.csv\n"
     ]
    }
   ],
   "source": [
    "extract_technical_terms(translated_exercises_de, terms_de, target_language=\"de\")\n",
    "print(f\"Extracted technical terms in German saved to {terms_de}\")"
   ]
  },
  {
   "cell_type": "markdown",
   "id": "8784a655-01f9-4007-a1d3-8279641ed6a8",
   "metadata": {},
   "source": [
    "Arabic terms"
   ]
  },
  {
   "cell_type": "code",
   "execution_count": 12,
   "id": "0845dadc-0a8f-4162-a911-60bc68629402",
   "metadata": {
    "scrolled": true
   },
   "outputs": [
    {
     "name": "stdout",
     "output_type": "stream",
     "text": [
      "Extracting technical terms for task 1: ارسم 10 نجوم في الصندوق والون 5 منها باللون الأزرق.\n",
      "Extracting technical terms for task 2: احسب عدد التفاح في الصورة واكتب العدد الكلي في الدائرة الفارغة أدناه.\n",
      "Extracting technical terms for task 3: اكتب الأرقام من 1 إلى 20 بالترتيب على الأسطر المتاحة.\n",
      "Extracting technical terms for task 4: ارسم خطوطاً لربط الأرقام من 1 إلى 20 بأنماط النقاط المطابقة لها.\n",
      "Extracting technical terms for task 5: قم بدائرة الرقم الذي يحتوي على نفس عدد النقاط الموجودة تحته؛ على سبيل المثال، إذا رأيت 5 نقاط، قم بدائرة الرقم 5.\n",
      "Extracting technical terms for task 6: املأ الفراغات بالرمز الرقمي الصحيح الذي يطابق أنماط النقاط الموضحة في الصفحة.\n",
      "Extracting technical terms for task 7: إيما لديها 24 تفاحة وقد أعطت 13 تفاحة لصديقتها؛ كم عدد التفاح المتبقي لديها؟\n",
      "Extracting technical terms for task 8: مزارع لديه 36 جزرة ويقطف 12 جزرة أخرى؛ كم عدد الجزر التي يمتلكها في المجموع؟\n",
      "Extracting technical terms for task 9: ليام قرأ 45 صفحة من كتابه ثم أنهى 22 صفحة أخرى؛ فكم صفحًة قرأها إجمالًا؟\n",
      "Extracting technical terms for task 10: سارة لديها 8 علب من الكعك وكل علبة تحتوي على 12 كعكة; كم عدد الكعك الذي تمتلكه في المجموع؟\n",
      "Extracting technical terms for task 11: يمتلك مزارع 240 تفاحة ويريد تعبئتها في سلال بحيث تحتوي كل سلة على 15 تفاحة؛ كم سلة يحتاج؟\n",
      "Extracting technical terms for task 12: إذا كانت السيارة تسير 120 ميلاً في 3 ساعات، فكم ميلًا تسير في كل ساعة؟\n",
      "Extracting technical terms for task 13: لدي ليام 347 كرة زجاجية وقد أعطى 128 كرة زجاجية لأصدقائه؛ كم كرة زجاجية تبقى لديه؟\n",
      "Extracting technical terms for task 14: وَكَزَانَتِ المخَبَزَة قد بَاعَت 456 كَعْكةً في الصَّباح و 289 كَعْكةً في المَسَاءِ؛ فَكَمْ كَمْيَّة الكَعَكات الَّتِي بِيعتْ بالإجمال؟\n",
      "Extracting technical terms for task 15: سارة لديها مجموعة من 864 ملصقًا وفقدت 275 ملصقًا؛ كم عدد الملصقات التي لا تزال لديها؟\n",
      "Extracting technical terms for task 16: مخبز يبيع عبوات من البسكويت مقابل 24 دولارًا لكل عبوة، ويريد زبون شراء 4 عبوات؛ استخدم خاصية التوزيع لإيجاد التكلفة الإجمالية.\n",
      "Extracting technical terms for task 17: إذا كان هناك صندوق يحتوي على 36 قطعة من الشوكولاتة وتم تقسيمه بالتساوي إلى 4 صناديق أصغر، فكم سيكون عدد قطع الشوكولاتة في كل صندوق باستخدام خاصية التوزيع؟\n",
      "Extracting technical terms for task 18: يحتاج البستاني إلى زراعة 29 زهرة في صفوف مكونة من 3 زهور لكل صف؛ استخدم خاصية التوزيع لحساب العدد الإجمالي للزهور التي يحتاج لزراعتها.\n",
      "Extracting technical terms for task 19: قم بتحويل الكسر 3/8 إلى عدد عشري ونسبة مئوية.\n",
      "Extracting technical terms for task 20: طالب حصل على 85% في اختبار؛ عبّر عن هذه النتيجة ككسر في أبسط صورة.\n",
      "Extracting technical terms for task 21: إذا كانت قميص يكلف 45 دولارًا وفيه خصم قدره 30%، حدد سعر البيع بالشكل العشري.\n",
      "Extracting technical terms for task 22: الغواصة على عمق 150 متر تحت سطح البحر؛ إذا ارتفعت 75 متر، ما هو عمقها الجديد؟\n",
      "Extracting technical terms for task 23: يبدأ متسلق الجبال بالصعود 200 متر ثم ينزل 50 متر؛ ما هو التغير النهائي في ارتفاعه عن مستوى سطح البحر؟\n",
      "Extracting technical terms for task 24: إذا انخفضت درجة الحرارة من -5 درجات مئوية إلى -12 درجة مئوية في الليل، فكم درجة انخفضت؟\n",
      "Extracting technical terms for task 25: ترتيب أعمار الأطفال التالية في حفلة عيد الميلاد من الأصغر إلى الأكبر: 8 5 9 7.\n",
      "Extracting technical terms for task 26: ترجم الوصف التالي للتمرين من الإنجليزية إلى العربية: رتب الدرجات الحرارية التالية من الأبرد إلى الأكثر دفئًا: 35°F 28°F 42°F 30°F.\n",
      "Extracting technical terms for task 27: قم بترتيب النقاط من مباراة كرة السلة بالترتيب التصاعدي: 45 32 58 27.\n",
      "Extracting technical terms for task 28: رتب درجات الحرارة التالية من الأبرد إلى الأكثر دفئًا: -5°C 0°C -2°C و3°C.\n",
      "Extracting technical terms for task 29: قم بترتيب أرصدة حسابات البنك التالية من الأقل إلى الأعلى: -150.75، 200.50، -45.30، و75.00.\n",
      "Extracting technical terms for task 30: رتب الارتفاعات التالية من الأدنى إلى الأعلى: -30 متر، -5 متر، 10 متر، 50 متر.\n",
      "Extracting technical terms for task 31: تتسلسل النباتات في الحديقة كالتالي: 2 5 8 __ __؛ ابحث عن الرقمين التاليين في السلسلة.\n",
      "Extracting technical terms for task 32: تمتلك فريق الجري الأوقات التالية لإنهاء لفاتها: 60 ثانية، 64 ثانية، 68 ثانية، __ __؛ ما هما وقتا اللفتين القادمتين؟\n",
      "Extracting technical terms for task 33: يمتدح خباز نمطًا من المكونات: 1 كوب سكر، 2 كوب دقيق، 3 بيضات __ __؛ حدد العنصرين التاليين في هذا النمط.\n",
      "Extracting technical terms for task 34: قُم بتدوين جميع عوامل العدد 36 وحدد أي من هذه العوامل هي أيضًا أعداد أولية.\n",
      "Extracting technical terms for task 35: احسب الأعداد المضاعفة الخمسة الأولى للعدد 7 واشرح النمط الذي تلاحظه في تلك المضاعفات.\n",
      "Extracting technical terms for task 36: إذا كان لديك 48 تفاحة وترغب في تقسيمها بالتساوي بين السلال، حدد جميع الأعداد الممكنة للسلال التي يمكنك استخدامها من خلال إيجاد عوامل العدد 48.\n",
      "Extracting technical terms for task 37: ابحث عن المضاعف المشترك الأصغر (LCM) للعددين 8 و 12 لتحديد مدى تكرار تلاقي مضاعفاتهما.\n",
      "Extracting technical terms for task 38: احسب القاسم المشترك الأكبر (GCD) للعددين 20 و 30 لفهم أكبر عامل مشترك بينهما.\n",
      "Extracting technical terms for task 39: يريد بستاني زرع الزهور في صفوف باستخدام 18 زهرة حمراء و 24 زهرة زرقاء؛ ما هو المضاعف المشترك الأصغر (LCM) للعددين 18 و 24 لإيجاد أقل عدد من الزهور الكلي الذي يمكنه استخدامه دون أن يتبقى أي زهور؟\n",
      "Extracting technical terms for task 40: احسب قيمة 3 مرفوعة إلى القوة 4 ثم اطرح الجذر التربيعي لـ 64 من هذه النتيجة.\n",
      "Extracting technical terms for task 41: إذا كانت مساحة حديقة مربعة 81 قدمًا مربعًا، فحدد طول أحد جوانب الحديقة.\n",
      "Extracting technical terms for task 42: حدد مجموع القيم الناتجة عن حساب الجذر التربيعي لـ 49 ورفع 2 إلى القوة 5.\n",
      "Extracting technical terms for task 43: تم بناء نموذج لناطحة سحاب بمقياس 1:250؛ إذا كانت الارتفاع الحقيقي لناطحة السحاب هو 300 متر، فما هو ارتفاع النموذج بالسنتمترات؟\n",
      "Extracting technical terms for task 44: وصفة لكعكة كبيرة تتطلب 3 أكواب من الدقيق مقابل كل 2 كوب من السكر؛ إذا أراد الخباز أن يستخدم 6 أكواب من الدقيق، فكم كوبًا من السكر سيحتاج؟\n",
      "Extracting technical terms for task 45: خريطة تستخدم مقياسًا حيث تمثل بوصة واحدة 30 ميلاً؛ إذا كانت بلدتان تبعدان 5 بوصات عن بعضهما على الخريطة، فما هي المسافة الفعلية بينهما بالميل؟\n",
      "Extracting technical terms for task 46: مكتبة محلية بيعت 237 كتابًا في الشهر الماضي و185 كتابًا في هذا الشهر؛ قدّر العدد الإجمالي للكتب المبيعة عن طريق التقريب لأقرب عشرة.\n",
      "Extracting technical terms for task 47: مزارع لديه 489 تفاحة وينوي إعطاء 275 تفاحة؛ قم بتقدير عدد التفاح الذي سيتبقى لديه عن طريق التقريب إلى أقرب عشرة.\n",
      "Extracting technical terms for task 48: خلال حملة جمع التبرعات في المدرسة، جمع الطلاب 1248 دولارًا وأنفقوا 673 دولارًا؛ قم بتقدير المبلغ الإجمالي المتبقي عن طريق التقريب إلى أقرب عشرة.\n",
      "Extracting technical terms for task 49: جينا لديها \\(\\frac{2}{3}\\) من البيتزا وصديقتها تعطيها \\(\\frac{1}{4}\\) من البيتزا؛ كم مقدار البيتزا التي تمتلكها جينا الآن؟\n",
      "Extracting technical terms for task 50: وصف التمرين هو: تحتاج الوصفة إلى \\(\\frac{5}{6}\\) كوب من السكر، لكن جيري لديه فقط \\(\\frac{1}{3}\\) كوب؛ كم كوبًا إضافيًا من السكر يحتاج لجمعه؟\n",
      "Extracted technical terms in Arabic saved to gemini/technical_terms_ar.csv\n"
     ]
    }
   ],
   "source": [
    "extract_technical_terms(translated_exercises_ar, terms_ar, target_language=\"ar\")\n",
    "print(f\"Extracted technical terms in Arabic saved to {terms_ar}\")"
   ]
  },
  {
   "cell_type": "markdown",
   "id": "7927070a-b27c-4cac-9cfb-e6185a0f8454",
   "metadata": {},
   "source": [
    "## Evaluating Solutions"
   ]
  },
  {
   "cell_type": "code",
   "execution_count": 13,
   "id": "b173299e-2d33-4e53-9a39-5bc81e7c921a",
   "metadata": {},
   "outputs": [],
   "source": [
    "evaluations_en = \"gemini/topic_areas_evaluations_en.csv\"\n",
    "evaluations_de = \"gemini/topic_areas_evaluations_de.csv\"\n",
    "evaluations_ar = \"gemini/topic_areas_evaluations_ar.csv\""
   ]
  },
  {
   "cell_type": "code",
   "execution_count": 14,
   "id": "40762515-86bd-4f39-b396-11f48abafff6",
   "metadata": {
    "scrolled": true
   },
   "outputs": [
    {
     "name": "stdout",
     "output_type": "stream",
     "text": [
      "Evaluating solution for task 1: Draw 10 stars in the box and color 5 of them blue.\n",
      "Evaluating solution for task 2: Count the number of apples in the picture and write the total number in the empty circle below.\n",
      "Evaluating solution for task 3: Write the numbers from 1 to 20 in order on the lines provided.\n",
      "Evaluating solution for task 4: Draw lines to connect the numbers 1 to 20 with their matching dot patterns.\n",
      "Evaluating solution for task 5: Circle the number that has the same number of dots underneath it; for example if you see 5 dots circle the number 5.\n",
      "Evaluating solution for task 6: Fill in the blanks with the correct number symbol that matches the dot patterns shown on the page.\n",
      "Evaluating solution for task 7: Emma has 24 apples and she gives 13 apples to her friend; how many apples does she have left?\n",
      "Evaluating solution for task 8: A farmer has 36 carrots and picks another 12 carrots; how many carrots does he have in total?\n",
      "Evaluating solution for task 9: Liam read 45 pages of his book then finished 22 more pages; how many pages did he read altogether?\n",
      "Evaluating solution for task 10: Sarah has 8 boxes of cookies and each box contains 12 cookies; how many cookies does she have in total?\n",
      "Evaluating solution for task 11: A farmer has 240 apples that he wants to pack into baskets with each basket holding 15 apples; how many baskets does he need?\n",
      "Evaluating solution for task 12: If a car travels 120 miles in 3 hours how many miles does it travel in each hour?\n",
      "Error evaluating task 12: 429 Resource has been exhausted (e.g. check quota).\n",
      "Evaluating solution for task 13: Liam has 347 marbles and he gives away 128 marbles to his friends; how many marbles does he have left?\n",
      "Error evaluating task 13: 429 Resource has been exhausted (e.g. check quota).\n",
      "Evaluating solution for task 14: A bakery sold 456 cupcakes in the morning and 289 cupcakes in the afternoon; how many cupcakes were sold in total?\n",
      "Error evaluating task 14: 429 Resource has been exhausted (e.g. check quota).\n",
      "Evaluating solution for task 15: Sarah has a collection of 864 stickers and she loses 275 stickers; how many stickers does she still have?\n",
      "Error evaluating task 15: 429 Resource has been exhausted (e.g. check quota).\n",
      "Evaluating solution for task 16: A bakery sells packs of cookies for $24 each and a customer wants to buy 4 packs; use the distributive property to find the total cost.\n",
      "Error evaluating task 16: 429 Resource has been exhausted (e.g. check quota).\n",
      "Evaluating solution for task 17: If a box contains 36 chocolates and is divided equally into 4 smaller boxes how many chocolates will be in each box using the distributive property?\n",
      "Error evaluating task 17: 429 Resource has been exhausted (e.g. check quota).\n",
      "Evaluating solution for task 18: A gardener needs to plant 29 flowers in rows of 3; apply the distributive property to calculate the total number of flowers he needs to plant.\n",
      "Error evaluating task 18: 429 Resource has been exhausted (e.g. check quota).\n",
      "Evaluating solution for task 19: Convert the fraction 3/8 into a decimal and a percentage.\n",
      "Error evaluating task 19: 429 Resource has been exhausted (e.g. check quota).\n",
      "Evaluating solution for task 20: A student scored 85% on a test; express this score as a fraction in simplest form.\n",
      "Error evaluating task 20: 429 Resource has been exhausted (e.g. check quota).\n",
      "Evaluating solution for task 21: If a shirt costs $45 and is on sale for 30% off determine the sale price in decimal form.\n",
      "Error evaluating task 21: 429 Resource has been exhausted (e.g. check quota).\n",
      "Evaluating solution for task 22: A submarine is at a depth of 150 meters below sea level; if it rises 75 meters what is its new depth?\n",
      "Error evaluating task 22: 429 Resource has been exhausted (e.g. check quota).\n",
      "Evaluating solution for task 23: A mountain climber ascends 200 meters then descends 50 meters; what is her final elevation change from sea level?\n",
      "Error evaluating task 23: 429 Resource has been exhausted (e.g. check quota).\n",
      "Evaluating solution for task 24: If a temperature drops from -5 degrees Celsius to -12 degrees Celsius overnight how many degrees did it drop?\n",
      "Error evaluating task 24: 429 Resource has been exhausted (e.g. check quota).\n",
      "Evaluating solution for task 25: Arrange the following ages of children at a birthday party from youngest to oldest: 8 5 9 7.\n",
      "Error evaluating task 25: 429 Resource has been exhausted (e.g. check quota).\n",
      "Evaluating solution for task 26: Put the following temperatures in order from the coldest to the warmest: 35°F 28°F 42°F 30°F.\n",
      "Error evaluating task 26: 429 Resource has been exhausted (e.g. check quota).\n",
      "Evaluating solution for task 27: Order the scores from a basketball game in ascending order: 45 32 58 27.\n",
      "Error evaluating task 27: 429 Resource has been exhausted (e.g. check quota).\n",
      "Evaluating solution for task 28: Order the following temperatures from coldest to warmest: -5°C 0°C -2°C and 3°C.\n",
      "Error evaluating task 28: 429 Resource has been exhausted (e.g. check quota).\n",
      "Evaluating solution for task 29: Arrange the following bank account balances from the least to the greatest value: -150.75 200.50 -45.30 and 75.00.\n",
      "Error evaluating task 29: 429 Resource has been exhausted (e.g. check quota).\n",
      "Evaluating solution for task 30: Put the following elevations in order from lowest to highest: -30 meters 50 meters -5 meters and 10 meters.\n",
      "Error evaluating task 30: 429 Resource has been exhausted (e.g. check quota).\n",
      "Evaluating solution for task 31: The sequence of plants in a garden grows as 2 5 8 __ __; find the next two numbers in the sequence.\n",
      "Error evaluating task 31: 429 Resource has been exhausted (e.g. check quota).\n",
      "Evaluating solution for task 32: A sprinting team completes their laps in the following times: 60 seconds 64 seconds 68 seconds __ __; what are the next two lap times?\n",
      "Error evaluating task 32: 429 Resource has been exhausted (e.g. check quota).\n",
      "Evaluating solution for task 33: A baker uses a pattern of ingredients: 1 cup of sugar 2 cups of flour 3 eggs __ __; identify the next two items in this ingredient pattern.\n",
      "Error evaluating task 33: 429 Resource has been exhausted (e.g. check quota).\n",
      "Evaluating solution for task 34: List all the factors of 36 and identify which of these factors are also prime numbers.\n",
      "Error evaluating task 34: 429 Resource has been exhausted (e.g. check quota).\n",
      "Evaluating solution for task 35: Calculate the first five multiples of 7 and explain the pattern you observe in those multiples.\n",
      "Error evaluating task 35: 429 Resource has been exhausted (e.g. check quota).\n",
      "Evaluating solution for task 36: If you have 48 apples and want to divide them equally into baskets determine all the possible numbers of baskets you can use by finding the factors of 48.\n",
      "Error evaluating task 36: 429 Resource has been exhausted (e.g. check quota).\n",
      "Evaluating solution for task 37: Find the least common multiple (LCM) of 8 and 12 to determine how often their multiples will coincide.\n",
      "Error evaluating task 37: 429 Resource has been exhausted (e.g. check quota).\n",
      "Evaluating solution for task 38: Calculate the greatest common divisor (GCD) of 20 and 30 to understand their largest shared factor.\n",
      "Error evaluating task 38: 429 Resource has been exhausted (e.g. check quota).\n",
      "Evaluating solution for task 39: A gardener wants to plant flowers in rows using 18 red flowers and 24 blue flowers; what is the LCM of 18 and 24 to find the smallest number of total flowers he can use without having leftovers?\n",
      "Error evaluating task 39: 429 Resource has been exhausted (e.g. check quota).\n",
      "Evaluating solution for task 40: Calculate the value of 3 raised to the power of 4 and then subtract the square root of 64 from that result.\n",
      "Error evaluating task 40: 429 Resource has been exhausted (e.g. check quota).\n",
      "Evaluating solution for task 41: If the area of a square garden is 81 square feet find the length of one side of the garden.\n",
      "Error evaluating task 41: 429 Resource has been exhausted (e.g. check quota).\n",
      "Evaluating solution for task 42: Determine the sum of the values obtained by finding the square root of 49 and raising 2 to the power of 5.\n",
      "Error evaluating task 42: 429 Resource has been exhausted (e.g. check quota).\n",
      "Evaluating solution for task 43: A model of a skyscraper is built at a scale of 1:250; if the actual height of the skyscraper is 300 meters what is the height of the model in centimeters?\n",
      "Error evaluating task 43: 429 Resource has been exhausted (e.g. check quota).\n",
      "Evaluating solution for task 44: A recipe for a large cake requires 3 cups of flour for every 2 cups of sugar; if a baker wants to make 6 cups of flour how many cups of sugar will they need?\n",
      "Error evaluating task 44: 429 Resource has been exhausted (e.g. check quota).\n",
      "Evaluating solution for task 45: A map uses a scale where 1 inch represents 30 miles; if two towns are 5 inches apart on the map what is the actual distance between them in miles?\n",
      "Error evaluating task 45: 429 Resource has been exhausted (e.g. check quota).\n",
      "Evaluating solution for task 46: A local bookstore sold 237 books last month and 185 books this month; estimate the total number of books sold by rounding to the nearest ten.\n",
      "Error evaluating task 46: 429 Resource has been exhausted (e.g. check quota).\n",
      "Evaluating solution for task 47: A farmer has 489 apples and plans to give away 275 apples; estimate how many apples he will have left by rounding to the nearest ten.\n",
      "Error evaluating task 47: 429 Resource has been exhausted (e.g. check quota).\n",
      "Evaluating solution for task 48: During a school fundraiser students raised $1248 and spent $673; estimate the total amount left by rounding to the nearest ten.\n",
      "Error evaluating task 48: 429 Resource has been exhausted (e.g. check quota).\n",
      "Evaluating solution for task 49: Jenna has \\(\\frac{2}{3}\\) of a pizza and her friend gives her \\(\\frac{1}{4}\\) of a pizza; how much pizza does Jenna have now?\n",
      "Error evaluating task 49: 429 Resource has been exhausted (e.g. check quota).\n",
      "Evaluating solution for task 50: A recipe requires \\(\\frac{5}{6}\\) cup of sugar but Jerry only has \\(\\frac{1}{3}\\) cup; how much more sugar does he need to gather?\n",
      "Error evaluating task 50: 429 Resource has been exhausted (e.g. check quota).\n",
      "Evaluation of solutions in English saved to gemini/topic_areas_evaluations_en.csv\n"
     ]
    }
   ],
   "source": [
    "evaluate_solutions(solved_exercises_en, terms_en, evaluations_en)\n",
    "print(f\"Evaluation of solutions in English saved to {evaluations_en}\")"
   ]
  },
  {
   "cell_type": "code",
   "execution_count": 15,
   "id": "40f9d098-c211-4acb-8255-aeda89617858",
   "metadata": {
    "scrolled": true
   },
   "outputs": [
    {
     "name": "stdout",
     "output_type": "stream",
     "text": [
      "Evaluating solution for task 1: Zeichne 10 Sterne in das Kästchen und male 5 davon blau.\n",
      "Error evaluating task 1: 429 Resource has been exhausted (e.g. check quota).\n",
      "Evaluating solution for task 2: Zähle die Anzahl der Äpfel im Bild und schreibe die Gesamtsumme in den leeren Kreis darunter.\n",
      "Error evaluating task 2: 429 Resource has been exhausted (e.g. check quota).\n",
      "Evaluating solution for task 3: Schreibe die Zahlen von 1 bis 20 der Reihenfolge nach auf die vorgesehenen Linien.\n",
      "Error evaluating task 3: 429 Resource has been exhausted (e.g. check quota).\n",
      "Evaluating solution for task 4: Zeichne Linien, um die Zahlen 1 bis 20 mit ihren passenden Punktmustern zu verbinden.\n",
      "Error evaluating task 4: 429 Resource has been exhausted (e.g. check quota).\n",
      "Evaluating solution for task 5: Umkreise die Zahl, die die gleiche Anzahl von Punkten darunter hat; zum Beispiel, wenn du 5 Punkte siehst, umkreise die Zahl 5.\n",
      "Error evaluating task 5: 429 Resource has been exhausted (e.g. check quota).\n",
      "Evaluating solution for task 6: Fülle die Lücken mit dem richtigen Zahlensymbol aus, das den auf der Seite gezeigten Punktmustern entspricht.\n",
      "Error evaluating task 6: 429 Resource has been exhausted (e.g. check quota).\n",
      "Evaluating solution for task 7: Emma hat 24 Äpfel und sie gibt 13 Äpfel an ihre Freundin; wie viele Äpfel hat sie noch?\n",
      "Error evaluating task 7: 429 Resource has been exhausted (e.g. check quota).\n",
      "Evaluating solution for task 8: Ein Bauer hat 36 Karotten und pflückt weitere 12 Karotten; wie viele Karotten hat er insgesamt?\n",
      "Error evaluating task 8: 429 Resource has been exhausted (e.g. check quota).\n",
      "Evaluating solution for task 9: Liam hat 45 Seiten seines Buches gelesen und dann 22 weitere Seiten beendet; wie viele Seiten hat er insgesamt gelesen?\n",
      "Error evaluating task 9: 429 Resource has been exhausted (e.g. check quota).\n",
      "Evaluating solution for task 10: Sarah hat 8 Boxen mit Keksen, und jede Box enthält 12 Kekse; wie viele Kekse hat sie insgesamt?\n",
      "Error evaluating task 10: 429 Resource has been exhausted (e.g. check quota).\n",
      "Evaluating solution for task 11: Ein Bauer hat 240 Äpfel, die er in Körbe packen möchte, wobei jeder Korb 15 Äpfel fasst. Wie viele Körbe benötigt er?\n",
      "Error evaluating task 11: 429 Resource has been exhausted (e.g. check quota).\n",
      "Evaluating solution for task 12: Wenn ein Auto 120 Meilen in 3 Stunden fährt, wie viele Meilen legt es in jeder Stunde zurück?\n",
      "Error evaluating task 12: 429 Resource has been exhausted (e.g. check quota).\n",
      "Evaluating solution for task 13: Liam hat 347 Murmeln und er schenkt 128 Murmeln seinen Freunden; wie viele Murmeln hat er noch?\n",
      "Error evaluating task 13: 429 Resource has been exhausted (e.g. check quota).\n",
      "Evaluating solution for task 14: Eine Bäckerei verkaufte morgens 456 Cupcakes und nachmittags 289 Cupcakes; wie viele Cupcakes wurden insgesamt verkauft?\n",
      "Error evaluating task 14: 429 Resource has been exhausted (e.g. check quota).\n",
      "Evaluating solution for task 15: Sarah hat eine Sammlung von 864 Aufklebern und sie verliert 275 Aufkleber; wie viele Aufkleber hat sie noch?\n",
      "Error evaluating task 15: 429 Resource has been exhausted (e.g. check quota).\n",
      "Evaluating solution for task 16: Eine Bäckerei verkauft Päckchen Kekse für jeweils 24 $ und ein Kunde möchte 4 Päckchen kaufen; benutze das Distributivgesetz, um die Gesamtkosten zu ermitteln.\n",
      "Error evaluating task 16: 429 Resource has been exhausted (e.g. check quota).\n",
      "Evaluating solution for task 17: Wenn eine Box 36 Schokoladen enthält und gleichmäßig in 4 kleinere Boxen aufgeteilt wird, wie viele Schokoladen werden in jeder Box sein, indem die distributive Eigenschaft verwendet wird?\n",
      "Error evaluating task 17: 429 Resource has been exhausted (e.g. check quota).\n",
      "Evaluating solution for task 18: Ein Gärtner muss 29 Blumen in Reihen von 3 pflanzen; wende das distributive Gesetz an, um die Gesamtanzahl der Blumen zu berechnen, die er pflanzen muss.\n",
      "Error evaluating task 18: 429 Resource has been exhausted (e.g. check quota).\n",
      "Evaluating solution for task 19: Konvertieren Sie den Bruch 3/8 in eine Dezimalzahl und einen Prozentsatz.\n",
      "Error evaluating task 19: 429 Resource has been exhausted (e.g. check quota).\n",
      "Evaluating solution for task 20: Ein Schüler hat 85 % in einem Test erzielt; drücke diesen Wert als Bruch in der einfachsten Form aus.\n",
      "Error evaluating task 20: 429 Resource has been exhausted (e.g. check quota).\n",
      "Evaluating solution for task 21: Wenn ein Hemd 45 $ kostet und um 30 % reduziert ist, bestimme den Verkaufspreis in Dezimalform.\n",
      "Error evaluating task 21: 429 Resource has been exhausted (e.g. check quota).\n",
      "Evaluating solution for task 22: Ein U-Boot befindet sich in einer Tiefe von 150 Metern unter dem Meeresspiegel; wenn es um 75 Meter steigt, wie tief ist es dann?\n",
      "Error evaluating task 22: 429 Resource has been exhausted (e.g. check quota).\n",
      "Evaluating solution for task 23: Ein Bergsteiger steigt 200 Meter auf und sinkt dann 50 Meter ab; wie viel beträgt ihre endgültige Höhenänderung gegenüber dem Meeresspiegel?\n",
      "Error evaluating task 23: 429 Resource has been exhausted (e.g. check quota).\n",
      "Evaluating solution for task 24: Wenn die Temperatur über Nacht von -5 Grad Celsius auf -12 Grad Celsius sinkt, um wie viele Grad ist sie gefallen?\n",
      "Error evaluating task 24: 429 Resource has been exhausted (e.g. check quota).\n",
      "Evaluating solution for task 25: Ordne die folgenden Altersangaben von Kindern auf einer Geburtstagsfeier vom jüngsten zum ältesten: 8 5 9 7.\n",
      "Error evaluating task 25: 429 Resource has been exhausted (e.g. check quota).\n",
      "Evaluating solution for task 26: Ordne die folgenden Temperaturen von der kältesten zur wärmsten: 35°F, 28°F, 42°F, 30°F.\n",
      "Error evaluating task 26: 429 Resource has been exhausted (e.g. check quota).\n",
      "Evaluating solution for task 27: Ordne die Punkte aus einem Basketballspiel in aufsteigender Reihenfolge: 45, 32, 58, 27.\n",
      "Error evaluating task 27: 429 Resource has been exhausted (e.g. check quota).\n",
      "Evaluating solution for task 28: Ordne die folgenden Temperaturen von der kältesten zur wärmsten: -5°C, 0°C, -2°C und 3°C.\n",
      "Error evaluating task 28: 429 Resource has been exhausted (e.g. check quota).\n",
      "Evaluating solution for task 29: Ordne die folgenden Bankkontostände von dem niedrigsten zum höchsten Wert: -150,75 200,50 -45,30 und 75,00.\n",
      "Error evaluating task 29: 429 Resource has been exhausted (e.g. check quota).\n",
      "Evaluating solution for task 30: Setze die folgenden Höhen in aufsteigender Reihenfolge von der tiefsten zur höchsten: -30 Meter, -5 Meter, 10 Meter und 50 Meter.\n",
      "Error evaluating task 30: 429 Resource has been exhausted (e.g. check quota).\n",
      "Evaluating solution for task 31: Die Reihenfolge der Pflanzen in einem Garten wächst wie 2 5 8 __ __; finde die nächsten beiden Zahlen in der Reihenfolge.\n",
      "Error evaluating task 31: 429 Resource has been exhausted (e.g. check quota).\n",
      "Evaluating solution for task 32: Ein Sprintteam absolviert seine Runden in den folgenden Zeiten: 60 Sekunden, 64 Sekunden, 68 Sekunden __ __; was sind die nächsten beiden Rundenzeiten?\n",
      "Error evaluating task 32: 429 Resource has been exhausted (e.g. check quota).\n",
      "Evaluating solution for task 33: Ein Bäcker verwendet ein Muster von Zutaten: 1 Tasse Zucker, 2 Tassen Mehl, 3 Eier __ __; identifiziere die nächsten beiden Elemente in diesem Zutatenmuster.\n",
      "Error evaluating task 33: 429 Resource has been exhausted (e.g. check quota).\n",
      "Evaluating solution for task 34: Liste alle Faktoren von 36 auf und identifiziere, welche dieser Faktoren ebenfalls Primzahlen sind.\n",
      "Error evaluating task 34: 429 Resource has been exhausted (e.g. check quota).\n",
      "Evaluating solution for task 35: Berechne die ersten fünf Vielfachen von 7 und erkläre das Muster, das du in diesen Vielfachen beobachtest.\n",
      "Error evaluating task 35: 429 Resource has been exhausted (e.g. check quota).\n",
      "Evaluating solution for task 36: Wenn Sie 48 Äpfel haben und diese gleichmäßig in Körbe aufteilen möchten, bestimmen Sie alle möglichen Zahlen von Körben, die Sie verwenden können, indem Sie die Faktoren von 48 finden.\n",
      "Error evaluating task 36: 429 Resource has been exhausted (e.g. check quota).\n",
      "Evaluating solution for task 37: Finde das kleinste gemeinsame Vielfache (kgV) von 8 und 12, um zu bestimmen, wie oft ihre Vielfachen übereinstimmen werden.\n",
      "Error evaluating task 37: 429 Resource has been exhausted (e.g. check quota).\n",
      "Evaluating solution for task 38: Berechne den größten gemeinsamen Teiler (ggT) von 20 und 30, um ihren größten gemeinsamen Faktor zu verstehen.\n",
      "Error evaluating task 38: 429 Resource has been exhausted (e.g. check quota).\n",
      "Evaluating solution for task 39: Ein Gärtner möchte Blumen in Reihen pflanzen, und zwar mit 18 roten Blumen und 24 blauen Blumen. Was ist das kleinste gemeinsame Vielfache (kgV) von 18 und 24, um die kleinste Gesamtzahl an Blumen zu finden, die er verwenden kann, ohne dass Reste übrig bleiben?\n",
      "Error evaluating task 39: 429 Resource has been exhausted (e.g. check quota).\n",
      "Evaluating solution for task 40: Berechne den Wert von 3 hoch 4 und ziehe dann die Quadratwurzel von 64 von diesem Ergebnis ab.\n",
      "Error evaluating task 40: 429 Resource has been exhausted (e.g. check quota).\n",
      "Evaluating solution for task 41: Wenn die Fläche eines quadratischen Gartens 81 Quadratfuß beträgt, finde die Länge einer Seite des Gartens.\n",
      "Error evaluating task 41: 429 Resource has been exhausted (e.g. check quota).\n",
      "Evaluating solution for task 42: Bestimme die Summe der Werte, die durch das Ziehen der Quadratwurzel von 49 und das Erheben von 2 in die Potenz von 5 erhalten werden.\n",
      "Error evaluating task 42: 429 Resource has been exhausted (e.g. check quota).\n",
      "Evaluating solution for task 43: Ein Modell eines Wolkenkratzers wird im Maßstab 1:250 gebaut. Wenn die tatsächliche Höhe des Wolkenkratzers 300 Meter beträgt, wie hoch ist das Modell in Zentimetern?\n",
      "Error evaluating task 43: 429 Resource has been exhausted (e.g. check quota).\n",
      "Evaluating solution for task 44: Ein Rezept für einen großen Kuchen benötigt 3 Tassen Mehl für jede 2 Tassen Zucker; wenn ein Bäcker 6 Tassen Mehl verwenden möchte, wie viele Tassen Zucker benötigt er dann?\n",
      "Error evaluating task 44: 429 Resource has been exhausted (e.g. check quota).\n",
      "Evaluating solution for task 45: Eine Karte verwendet einen Maßstab, bei dem 1 Zoll 30 Meilen entspricht; wenn zwei Städte auf der Karte 5 Zoll voneinander entfernt sind, wie groß ist die tatsächliche Entfernung zwischen ihnen in Meilen?\n",
      "Error evaluating task 45: 429 Resource has been exhausted (e.g. check quota).\n",
      "Evaluating solution for task 46: Eine lokale Buchhandlung hat letzten Monat 237 Bücher und diesen Monat 185 Bücher verkauft; schätze die Gesamtzahl der verkauften Bücher, indem du auf die nächstgelegene Zehnerstelle rundest.\n",
      "Error evaluating task 46: 429 Resource has been exhausted (e.g. check quota).\n",
      "Evaluating solution for task 47: Ein Bauer hat 489 Äpfel und plant, 275 Äpfel zu verschenken; schätze, wie viele Äpfel er übrig haben wird, indem du auf die nächstliegende Zehnerstelle rundest.\n",
      "Error evaluating task 47: 429 Resource has been exhausted (e.g. check quota).\n",
      "Evaluating solution for task 48: Während einer Schulspendenaktion sammelten die Schüler 1248 $ und gaben 673 $ aus; schätzen Sie den insgesamt verbleibenden Betrag, indem Sie auf die nächste Zehnerstelle runden.\n",
      "Error evaluating task 48: 429 Resource has been exhausted (e.g. check quota).\n",
      "Evaluating solution for task 49: Jenna hat \\(\\frac{2}{3}\\) einer Pizza und ihre Freundin gibt ihr \\(\\frac{1}{4}\\) einer Pizza; wie viel Pizza hat Jenna jetzt?\n",
      "Error evaluating task 49: 429 Resource has been exhausted (e.g. check quota).\n",
      "Evaluating solution for task 50: Ein Rezept benötigt \\(\\frac{5}{6}\\) Tasse Zucker, aber Jerry hat nur \\(\\frac{1}{3}\\) Tasse; wie viel mehr Zucker muss er sammeln?\n",
      "Error evaluating task 50: 429 Resource has been exhausted (e.g. check quota).\n",
      "Evaluation of solutions in German saved to gemini/topic_areas_evaluations_de.csv\n"
     ]
    }
   ],
   "source": [
    "evaluate_solutions(solved_exercises_de, terms_de, evaluations_de)\n",
    "print(f\"Evaluation of solutions in German saved to {evaluations_de}\")"
   ]
  },
  {
   "cell_type": "code",
   "execution_count": 16,
   "id": "9600533e-7b33-4723-8c56-345c5cdc1c96",
   "metadata": {
    "scrolled": true
   },
   "outputs": [
    {
     "name": "stdout",
     "output_type": "stream",
     "text": [
      "Evaluating solution for task 1: ارسم 10 نجوم في الصندوق والون 5 منها باللون الأزرق.\n",
      "Error evaluating task 1: 429 Resource has been exhausted (e.g. check quota).\n",
      "Evaluating solution for task 2: احسب عدد التفاح في الصورة واكتب العدد الكلي في الدائرة الفارغة أدناه.\n",
      "Error evaluating task 2: 429 Resource has been exhausted (e.g. check quota).\n",
      "Evaluating solution for task 3: اكتب الأرقام من 1 إلى 20 بالترتيب على الأسطر المتاحة.\n",
      "Error evaluating task 3: 429 Resource has been exhausted (e.g. check quota).\n",
      "Evaluating solution for task 4: ارسم خطوطاً لربط الأرقام من 1 إلى 20 بأنماط النقاط المطابقة لها.\n",
      "Error evaluating task 4: 429 Resource has been exhausted (e.g. check quota).\n",
      "Evaluating solution for task 5: قم بدائرة الرقم الذي يحتوي على نفس عدد النقاط الموجودة تحته؛ على سبيل المثال، إذا رأيت 5 نقاط، قم بدائرة الرقم 5.\n",
      "Error evaluating task 5: 429 Resource has been exhausted (e.g. check quota).\n",
      "Evaluating solution for task 6: املأ الفراغات بالرمز الرقمي الصحيح الذي يطابق أنماط النقاط الموضحة في الصفحة.\n",
      "Error evaluating task 6: 429 Resource has been exhausted (e.g. check quota).\n",
      "Evaluating solution for task 7: إيما لديها 24 تفاحة وقد أعطت 13 تفاحة لصديقتها؛ كم عدد التفاح المتبقي لديها؟\n",
      "Error evaluating task 7: 429 Resource has been exhausted (e.g. check quota).\n",
      "Evaluating solution for task 8: مزارع لديه 36 جزرة ويقطف 12 جزرة أخرى؛ كم عدد الجزر التي يمتلكها في المجموع؟\n",
      "Error evaluating task 8: 429 Resource has been exhausted (e.g. check quota).\n",
      "Evaluating solution for task 9: ليام قرأ 45 صفحة من كتابه ثم أنهى 22 صفحة أخرى؛ فكم صفحًة قرأها إجمالًا؟\n",
      "Error evaluating task 9: 429 Resource has been exhausted (e.g. check quota).\n",
      "Evaluating solution for task 10: سارة لديها 8 علب من الكعك وكل علبة تحتوي على 12 كعكة; كم عدد الكعك الذي تمتلكه في المجموع؟\n",
      "Error evaluating task 10: 429 Resource has been exhausted (e.g. check quota).\n",
      "Evaluating solution for task 11: يمتلك مزارع 240 تفاحة ويريد تعبئتها في سلال بحيث تحتوي كل سلة على 15 تفاحة؛ كم سلة يحتاج؟\n",
      "Error evaluating task 11: 429 Resource has been exhausted (e.g. check quota).\n",
      "Evaluating solution for task 12: إذا كانت السيارة تسير 120 ميلاً في 3 ساعات، فكم ميلًا تسير في كل ساعة؟\n",
      "Error evaluating task 12: 429 Resource has been exhausted (e.g. check quota).\n",
      "Evaluating solution for task 13: لدي ليام 347 كرة زجاجية وقد أعطى 128 كرة زجاجية لأصدقائه؛ كم كرة زجاجية تبقى لديه؟\n",
      "Error evaluating task 13: 429 Resource has been exhausted (e.g. check quota).\n",
      "Evaluating solution for task 14: وَكَزَانَتِ المخَبَزَة قد بَاعَت 456 كَعْكةً في الصَّباح و 289 كَعْكةً في المَسَاءِ؛ فَكَمْ كَمْيَّة الكَعَكات الَّتِي بِيعتْ بالإجمال؟\n",
      "Error evaluating task 14: 429 Resource has been exhausted (e.g. check quota).\n",
      "Evaluating solution for task 15: سارة لديها مجموعة من 864 ملصقًا وفقدت 275 ملصقًا؛ كم عدد الملصقات التي لا تزال لديها؟\n",
      "Error evaluating task 15: 429 Resource has been exhausted (e.g. check quota).\n",
      "Evaluating solution for task 16: مخبز يبيع عبوات من البسكويت مقابل 24 دولارًا لكل عبوة، ويريد زبون شراء 4 عبوات؛ استخدم خاصية التوزيع لإيجاد التكلفة الإجمالية.\n",
      "Error evaluating task 16: 429 Resource has been exhausted (e.g. check quota).\n",
      "Evaluating solution for task 17: إذا كان هناك صندوق يحتوي على 36 قطعة من الشوكولاتة وتم تقسيمه بالتساوي إلى 4 صناديق أصغر، فكم سيكون عدد قطع الشوكولاتة في كل صندوق باستخدام خاصية التوزيع؟\n",
      "Error evaluating task 17: 429 Resource has been exhausted (e.g. check quota).\n",
      "Evaluating solution for task 18: يحتاج البستاني إلى زراعة 29 زهرة في صفوف مكونة من 3 زهور لكل صف؛ استخدم خاصية التوزيع لحساب العدد الإجمالي للزهور التي يحتاج لزراعتها.\n",
      "Error evaluating task 18: 429 Resource has been exhausted (e.g. check quota).\n",
      "Evaluating solution for task 19: قم بتحويل الكسر 3/8 إلى عدد عشري ونسبة مئوية.\n",
      "Error evaluating task 19: 429 Resource has been exhausted (e.g. check quota).\n",
      "Evaluating solution for task 20: طالب حصل على 85% في اختبار؛ عبّر عن هذه النتيجة ككسر في أبسط صورة.\n",
      "Error evaluating task 20: 429 Resource has been exhausted (e.g. check quota).\n",
      "Evaluating solution for task 21: إذا كانت قميص يكلف 45 دولارًا وفيه خصم قدره 30%، حدد سعر البيع بالشكل العشري.\n",
      "Error evaluating task 21: 429 Resource has been exhausted (e.g. check quota).\n",
      "Evaluating solution for task 22: الغواصة على عمق 150 متر تحت سطح البحر؛ إذا ارتفعت 75 متر، ما هو عمقها الجديد؟\n",
      "Error evaluating task 22: 429 Resource has been exhausted (e.g. check quota).\n",
      "Evaluating solution for task 23: يبدأ متسلق الجبال بالصعود 200 متر ثم ينزل 50 متر؛ ما هو التغير النهائي في ارتفاعه عن مستوى سطح البحر؟\n",
      "Error evaluating task 23: 429 Resource has been exhausted (e.g. check quota).\n",
      "Evaluating solution for task 24: إذا انخفضت درجة الحرارة من -5 درجات مئوية إلى -12 درجة مئوية في الليل، فكم درجة انخفضت؟\n",
      "Error evaluating task 24: 429 Resource has been exhausted (e.g. check quota).\n",
      "Evaluating solution for task 25: ترتيب أعمار الأطفال التالية في حفلة عيد الميلاد من الأصغر إلى الأكبر: 8 5 9 7.\n",
      "Error evaluating task 25: 429 Resource has been exhausted (e.g. check quota).\n",
      "Evaluating solution for task 26: ترجم الوصف التالي للتمرين من الإنجليزية إلى العربية: رتب الدرجات الحرارية التالية من الأبرد إلى الأكثر دفئًا: 35°F 28°F 42°F 30°F.\n",
      "Error evaluating task 26: 429 Resource has been exhausted (e.g. check quota).\n",
      "Evaluating solution for task 27: قم بترتيب النقاط من مباراة كرة السلة بالترتيب التصاعدي: 45 32 58 27.\n",
      "Error evaluating task 27: 429 Resource has been exhausted (e.g. check quota).\n",
      "Evaluating solution for task 28: رتب درجات الحرارة التالية من الأبرد إلى الأكثر دفئًا: -5°C 0°C -2°C و3°C.\n",
      "Error evaluating task 28: 429 Resource has been exhausted (e.g. check quota).\n",
      "Evaluating solution for task 29: قم بترتيب أرصدة حسابات البنك التالية من الأقل إلى الأعلى: -150.75، 200.50، -45.30، و75.00.\n",
      "Error evaluating task 29: 429 Resource has been exhausted (e.g. check quota).\n",
      "Evaluating solution for task 30: رتب الارتفاعات التالية من الأدنى إلى الأعلى: -30 متر، -5 متر، 10 متر، 50 متر.\n",
      "Error evaluating task 30: 429 Resource has been exhausted (e.g. check quota).\n",
      "Evaluating solution for task 31: تتسلسل النباتات في الحديقة كالتالي: 2 5 8 __ __؛ ابحث عن الرقمين التاليين في السلسلة.\n",
      "Error evaluating task 31: 429 Resource has been exhausted (e.g. check quota).\n",
      "Evaluating solution for task 32: تمتلك فريق الجري الأوقات التالية لإنهاء لفاتها: 60 ثانية، 64 ثانية، 68 ثانية، __ __؛ ما هما وقتا اللفتين القادمتين؟\n",
      "Error evaluating task 32: 429 Resource has been exhausted (e.g. check quota).\n",
      "Evaluating solution for task 33: يمتدح خباز نمطًا من المكونات: 1 كوب سكر، 2 كوب دقيق، 3 بيضات __ __؛ حدد العنصرين التاليين في هذا النمط.\n",
      "Error evaluating task 33: 429 Resource has been exhausted (e.g. check quota).\n",
      "Evaluating solution for task 34: قُم بتدوين جميع عوامل العدد 36 وحدد أي من هذه العوامل هي أيضًا أعداد أولية.\n",
      "Error evaluating task 34: 429 Resource has been exhausted (e.g. check quota).\n",
      "Evaluating solution for task 35: احسب الأعداد المضاعفة الخمسة الأولى للعدد 7 واشرح النمط الذي تلاحظه في تلك المضاعفات.\n",
      "Error evaluating task 35: 429 Resource has been exhausted (e.g. check quota).\n",
      "Evaluating solution for task 36: إذا كان لديك 48 تفاحة وترغب في تقسيمها بالتساوي بين السلال، حدد جميع الأعداد الممكنة للسلال التي يمكنك استخدامها من خلال إيجاد عوامل العدد 48.\n",
      "Error evaluating task 36: 429 Resource has been exhausted (e.g. check quota).\n",
      "Evaluating solution for task 37: ابحث عن المضاعف المشترك الأصغر (LCM) للعددين 8 و 12 لتحديد مدى تكرار تلاقي مضاعفاتهما.\n",
      "Error evaluating task 37: 429 Resource has been exhausted (e.g. check quota).\n",
      "Evaluating solution for task 38: احسب القاسم المشترك الأكبر (GCD) للعددين 20 و 30 لفهم أكبر عامل مشترك بينهما.\n",
      "Error evaluating task 38: 429 Resource has been exhausted (e.g. check quota).\n",
      "Evaluating solution for task 39: يريد بستاني زرع الزهور في صفوف باستخدام 18 زهرة حمراء و 24 زهرة زرقاء؛ ما هو المضاعف المشترك الأصغر (LCM) للعددين 18 و 24 لإيجاد أقل عدد من الزهور الكلي الذي يمكنه استخدامه دون أن يتبقى أي زهور؟\n",
      "Error evaluating task 39: 429 Resource has been exhausted (e.g. check quota).\n",
      "Evaluating solution for task 40: احسب قيمة 3 مرفوعة إلى القوة 4 ثم اطرح الجذر التربيعي لـ 64 من هذه النتيجة.\n",
      "Error evaluating task 40: 429 Resource has been exhausted (e.g. check quota).\n",
      "Evaluating solution for task 41: إذا كانت مساحة حديقة مربعة 81 قدمًا مربعًا، فحدد طول أحد جوانب الحديقة.\n",
      "Error evaluating task 41: 429 Resource has been exhausted (e.g. check quota).\n",
      "Evaluating solution for task 42: حدد مجموع القيم الناتجة عن حساب الجذر التربيعي لـ 49 ورفع 2 إلى القوة 5.\n",
      "Error evaluating task 42: 429 Resource has been exhausted (e.g. check quota).\n",
      "Evaluating solution for task 43: تم بناء نموذج لناطحة سحاب بمقياس 1:250؛ إذا كانت الارتفاع الحقيقي لناطحة السحاب هو 300 متر، فما هو ارتفاع النموذج بالسنتمترات؟\n",
      "Error evaluating task 43: 429 Resource has been exhausted (e.g. check quota).\n",
      "Evaluating solution for task 44: وصفة لكعكة كبيرة تتطلب 3 أكواب من الدقيق مقابل كل 2 كوب من السكر؛ إذا أراد الخباز أن يستخدم 6 أكواب من الدقيق، فكم كوبًا من السكر سيحتاج؟\n",
      "Error evaluating task 44: 429 Resource has been exhausted (e.g. check quota).\n",
      "Evaluating solution for task 45: خريطة تستخدم مقياسًا حيث تمثل بوصة واحدة 30 ميلاً؛ إذا كانت بلدتان تبعدان 5 بوصات عن بعضهما على الخريطة، فما هي المسافة الفعلية بينهما بالميل؟\n",
      "Error evaluating task 45: 429 Resource has been exhausted (e.g. check quota).\n",
      "Evaluating solution for task 46: مكتبة محلية بيعت 237 كتابًا في الشهر الماضي و185 كتابًا في هذا الشهر؛ قدّر العدد الإجمالي للكتب المبيعة عن طريق التقريب لأقرب عشرة.\n",
      "Error evaluating task 46: 429 Resource has been exhausted (e.g. check quota).\n",
      "Evaluating solution for task 47: مزارع لديه 489 تفاحة وينوي إعطاء 275 تفاحة؛ قم بتقدير عدد التفاح الذي سيتبقى لديه عن طريق التقريب إلى أقرب عشرة.\n",
      "Error evaluating task 47: 429 Resource has been exhausted (e.g. check quota).\n",
      "Evaluating solution for task 48: خلال حملة جمع التبرعات في المدرسة، جمع الطلاب 1248 دولارًا وأنفقوا 673 دولارًا؛ قم بتقدير المبلغ الإجمالي المتبقي عن طريق التقريب إلى أقرب عشرة.\n",
      "Error evaluating task 48: 429 Resource has been exhausted (e.g. check quota).\n",
      "Evaluating solution for task 49: جينا لديها \\(\\frac{2}{3}\\) من البيتزا وصديقتها تعطيها \\(\\frac{1}{4}\\) من البيتزا؛ كم مقدار البيتزا التي تمتلكها جينا الآن؟\n",
      "Error evaluating task 49: 429 Resource has been exhausted (e.g. check quota).\n",
      "Evaluating solution for task 50: وصف التمرين هو: تحتاج الوصفة إلى \\(\\frac{5}{6}\\) كوب من السكر، لكن جيري لديه فقط \\(\\frac{1}{3}\\) كوب؛ كم كوبًا إضافيًا من السكر يحتاج لجمعه؟\n",
      "Error evaluating task 50: 429 Resource has been exhausted (e.g. check quota).\n",
      "Evaluation of solutions in Arabic saved to gemini/topic_areas_evaluations_ar.csv\n"
     ]
    }
   ],
   "source": [
    "evaluate_solutions(solved_exercises_ar, terms_ar, evaluations_ar)\n",
    "print(f\"Evaluation of solutions in Arabic saved to {evaluations_ar}\")"
   ]
  },
  {
   "cell_type": "markdown",
   "id": "958ce6a2-4050-4d47-abc5-a094060a484a",
   "metadata": {},
   "source": [
    "## Results Comparisons"
   ]
  },
  {
   "cell_type": "code",
   "execution_count": 17,
   "id": "ff01c260-a89f-4a49-a441-78b22a37582f",
   "metadata": {},
   "outputs": [],
   "source": [
    "files = {\n",
    "    \"en\": evaluations_en,\n",
    "    \"de\": evaluations_de,\n",
    "    \"ar\": evaluations_ar,\n",
    "}"
   ]
  },
  {
   "cell_type": "code",
   "execution_count": 18,
   "id": "48bf087e-14bd-4eca-9932-2aa2dc3e1ff7",
   "metadata": {},
   "outputs": [
    {
     "ename": "KeyError",
     "evalue": "\"['Learning Appropriateness (Is the Explanation Suitable for Learners?)', 'Generalization (Can the Learner Apply This Method to Similar Problems?)', 'Appropriateness Based on Progress Level (Grade)'] not in index\"",
     "output_type": "error",
     "traceback": [
      "\u001b[1;31m---------------------------------------------------------------------------\u001b[0m",
      "\u001b[1;31mKeyError\u001b[0m                                  Traceback (most recent call last)",
      "Cell \u001b[1;32mIn[18], line 1\u001b[0m\n\u001b[1;32m----> 1\u001b[0m cross_validation_results \u001b[38;5;241m=\u001b[39m \u001b[43mcompare_results\u001b[49m\u001b[43m(\u001b[49m\u001b[43mfiles\u001b[49m\u001b[43m)\u001b[49m\n",
      "File \u001b[1;32m~\\Desktop\\development\\solution_evaluator\\_5_cross_lang_validation.py:38\u001b[0m, in \u001b[0;36mcompare_results\u001b[1;34m(files)\u001b[0m\n\u001b[0;32m     36\u001b[0m \u001b[38;5;28;01mfor\u001b[39;00m lang, file_path \u001b[38;5;129;01min\u001b[39;00m files\u001b[38;5;241m.\u001b[39mitems():\n\u001b[0;32m     37\u001b[0m     df \u001b[38;5;241m=\u001b[39m load_csv(file_path)\n\u001b[1;32m---> 38\u001b[0m     results[lang] \u001b[38;5;241m=\u001b[39m \u001b[43mcalculate_metric_averages\u001b[49m\u001b[43m(\u001b[49m\u001b[43mdf\u001b[49m\u001b[43m)\u001b[49m\n\u001b[0;32m     40\u001b[0m \u001b[38;5;66;03m# Combine results into a single DataFrame for comparison\u001b[39;00m\n\u001b[0;32m     41\u001b[0m comparison_df \u001b[38;5;241m=\u001b[39m pd\u001b[38;5;241m.\u001b[39mDataFrame(results)\n",
      "File \u001b[1;32m~\\Desktop\\development\\solution_evaluator\\_5_cross_lang_validation.py:29\u001b[0m, in \u001b[0;36mcalculate_metric_averages\u001b[1;34m(df)\u001b[0m\n\u001b[0;32m     27\u001b[0m \u001b[38;5;28;01mdef\u001b[39;00m\u001b[38;5;250m \u001b[39m\u001b[38;5;21mcalculate_metric_averages\u001b[39m(df):\n\u001b[0;32m     28\u001b[0m \u001b[38;5;250m    \u001b[39m\u001b[38;5;124;03m\"\"\"Calculate the average values for the specified metrics.\"\"\"\u001b[39;00m\n\u001b[1;32m---> 29\u001b[0m     df[METRICS] \u001b[38;5;241m=\u001b[39m \u001b[43mdf\u001b[49m\u001b[43m[\u001b[49m\u001b[43mMETRICS\u001b[49m\u001b[43m]\u001b[49m\u001b[38;5;241m.\u001b[39mapply(pd\u001b[38;5;241m.\u001b[39mto_numeric, errors\u001b[38;5;241m=\u001b[39m\u001b[38;5;124m'\u001b[39m\u001b[38;5;124mcoerce\u001b[39m\u001b[38;5;124m'\u001b[39m)  \u001b[38;5;66;03m# Coerce non-numeric to NaN\u001b[39;00m\n\u001b[0;32m     30\u001b[0m     \u001b[38;5;28;01mreturn\u001b[39;00m df[METRICS]\u001b[38;5;241m.\u001b[39mmean()\n",
      "File \u001b[1;32m~\\AppData\\Local\\Programs\\Python\\Python312\\Lib\\site-packages\\pandas\\core\\frame.py:4108\u001b[0m, in \u001b[0;36mDataFrame.__getitem__\u001b[1;34m(self, key)\u001b[0m\n\u001b[0;32m   4106\u001b[0m     \u001b[38;5;28;01mif\u001b[39;00m is_iterator(key):\n\u001b[0;32m   4107\u001b[0m         key \u001b[38;5;241m=\u001b[39m \u001b[38;5;28mlist\u001b[39m(key)\n\u001b[1;32m-> 4108\u001b[0m     indexer \u001b[38;5;241m=\u001b[39m \u001b[38;5;28;43mself\u001b[39;49m\u001b[38;5;241;43m.\u001b[39;49m\u001b[43mcolumns\u001b[49m\u001b[38;5;241;43m.\u001b[39;49m\u001b[43m_get_indexer_strict\u001b[49m\u001b[43m(\u001b[49m\u001b[43mkey\u001b[49m\u001b[43m,\u001b[49m\u001b[43m \u001b[49m\u001b[38;5;124;43m\"\u001b[39;49m\u001b[38;5;124;43mcolumns\u001b[39;49m\u001b[38;5;124;43m\"\u001b[39;49m\u001b[43m)\u001b[49m[\u001b[38;5;241m1\u001b[39m]\n\u001b[0;32m   4110\u001b[0m \u001b[38;5;66;03m# take() does not accept boolean indexers\u001b[39;00m\n\u001b[0;32m   4111\u001b[0m \u001b[38;5;28;01mif\u001b[39;00m \u001b[38;5;28mgetattr\u001b[39m(indexer, \u001b[38;5;124m\"\u001b[39m\u001b[38;5;124mdtype\u001b[39m\u001b[38;5;124m\"\u001b[39m, \u001b[38;5;28;01mNone\u001b[39;00m) \u001b[38;5;241m==\u001b[39m \u001b[38;5;28mbool\u001b[39m:\n",
      "File \u001b[1;32m~\\AppData\\Local\\Programs\\Python\\Python312\\Lib\\site-packages\\pandas\\core\\indexes\\base.py:6200\u001b[0m, in \u001b[0;36mIndex._get_indexer_strict\u001b[1;34m(self, key, axis_name)\u001b[0m\n\u001b[0;32m   6197\u001b[0m \u001b[38;5;28;01melse\u001b[39;00m:\n\u001b[0;32m   6198\u001b[0m     keyarr, indexer, new_indexer \u001b[38;5;241m=\u001b[39m \u001b[38;5;28mself\u001b[39m\u001b[38;5;241m.\u001b[39m_reindex_non_unique(keyarr)\n\u001b[1;32m-> 6200\u001b[0m \u001b[38;5;28;43mself\u001b[39;49m\u001b[38;5;241;43m.\u001b[39;49m\u001b[43m_raise_if_missing\u001b[49m\u001b[43m(\u001b[49m\u001b[43mkeyarr\u001b[49m\u001b[43m,\u001b[49m\u001b[43m \u001b[49m\u001b[43mindexer\u001b[49m\u001b[43m,\u001b[49m\u001b[43m \u001b[49m\u001b[43maxis_name\u001b[49m\u001b[43m)\u001b[49m\n\u001b[0;32m   6202\u001b[0m keyarr \u001b[38;5;241m=\u001b[39m \u001b[38;5;28mself\u001b[39m\u001b[38;5;241m.\u001b[39mtake(indexer)\n\u001b[0;32m   6203\u001b[0m \u001b[38;5;28;01mif\u001b[39;00m \u001b[38;5;28misinstance\u001b[39m(key, Index):\n\u001b[0;32m   6204\u001b[0m     \u001b[38;5;66;03m# GH 42790 - Preserve name from an Index\u001b[39;00m\n",
      "File \u001b[1;32m~\\AppData\\Local\\Programs\\Python\\Python312\\Lib\\site-packages\\pandas\\core\\indexes\\base.py:6252\u001b[0m, in \u001b[0;36mIndex._raise_if_missing\u001b[1;34m(self, key, indexer, axis_name)\u001b[0m\n\u001b[0;32m   6249\u001b[0m     \u001b[38;5;28;01mraise\u001b[39;00m \u001b[38;5;167;01mKeyError\u001b[39;00m(\u001b[38;5;124mf\u001b[39m\u001b[38;5;124m\"\u001b[39m\u001b[38;5;124mNone of [\u001b[39m\u001b[38;5;132;01m{\u001b[39;00mkey\u001b[38;5;132;01m}\u001b[39;00m\u001b[38;5;124m] are in the [\u001b[39m\u001b[38;5;132;01m{\u001b[39;00maxis_name\u001b[38;5;132;01m}\u001b[39;00m\u001b[38;5;124m]\u001b[39m\u001b[38;5;124m\"\u001b[39m)\n\u001b[0;32m   6251\u001b[0m not_found \u001b[38;5;241m=\u001b[39m \u001b[38;5;28mlist\u001b[39m(ensure_index(key)[missing_mask\u001b[38;5;241m.\u001b[39mnonzero()[\u001b[38;5;241m0\u001b[39m]]\u001b[38;5;241m.\u001b[39munique())\n\u001b[1;32m-> 6252\u001b[0m \u001b[38;5;28;01mraise\u001b[39;00m \u001b[38;5;167;01mKeyError\u001b[39;00m(\u001b[38;5;124mf\u001b[39m\u001b[38;5;124m\"\u001b[39m\u001b[38;5;132;01m{\u001b[39;00mnot_found\u001b[38;5;132;01m}\u001b[39;00m\u001b[38;5;124m not in index\u001b[39m\u001b[38;5;124m\"\u001b[39m)\n",
      "\u001b[1;31mKeyError\u001b[0m: \"['Learning Appropriateness (Is the Explanation Suitable for Learners?)', 'Generalization (Can the Learner Apply This Method to Similar Problems?)', 'Appropriateness Based on Progress Level (Grade)'] not in index\""
     ]
    }
   ],
   "source": [
    "cross_validation_results = compare_results(files)"
   ]
  },
  {
   "cell_type": "code",
   "execution_count": null,
   "id": "1f2a4d1b-7da8-4cd2-ae4b-0e0f212163ea",
   "metadata": {},
   "outputs": [],
   "source": [
    "comparison_results = pd.read_csv('comparison_results.csv')\n",
    "highest_averages = pd.read_csv('highest_averages.csv')\n",
    "\n",
    "print(comparison_results.head())\n",
    "print(highest_averages.head())"
   ]
  },
  {
   "cell_type": "code",
   "execution_count": null,
   "id": "b2d1f18d-34b1-4734-b2c4-de695c804d32",
   "metadata": {},
   "outputs": [],
   "source": [
    "import pandas as pd\n",
    "import seaborn as sns\n",
    "import matplotlib.pyplot as plt\n",
    "\n",
    "# Load the data from the CSV file\n",
    "data = pd.read_csv(\"comparison_results.csv\")\n",
    "\n",
    "# Set the index of the DataFrame to the metrics column\n",
    "data.set_index(\"Unnamed: 0\", inplace=True)\n",
    "\n",
    "# Create the heatmap\n",
    "plt.figure(figsize=(10, 8))\n",
    "sns.heatmap(\n",
    "    data,\n",
    "    annot=True,  # Show the values in each cell\n",
    "    cmap=\"YlGnBu\",  # Color palette\n",
    "    fmt=\".2f\",  # Format the numbers to 2 decimal places\n",
    "    linewidths=0.5,  # Add space between cells\n",
    "    cbar_kws={'label': 'Score'}  # Label for the color bar\n",
    ")\n",
    "\n",
    "# Add labels and title\n",
    "plt.title(\"Comparison Heatmap of Scores by Language and Metric\", fontsize=14)\n",
    "plt.xlabel(\"Language\", fontsize=12)\n",
    "plt.ylabel(\"Metrics\", fontsize=12)\n",
    "\n",
    "# Rotate x-axis labels for readability\n",
    "plt.xticks(rotation=45, ha='right', fontsize=10)\n",
    "\n",
    "# Show the plot\n",
    "plt.tight_layout()\n",
    "plt.show()"
   ]
  },
  {
   "cell_type": "code",
   "execution_count": null,
   "id": "ef9e5b01-3b56-4d1b-a25a-49a16f8a6fa0",
   "metadata": {},
   "outputs": [],
   "source": [
    "import matplotlib.pyplot as plt\n",
    "import seaborn as sns\n",
    "import pandas as pd\n",
    "\n",
    "# Load comparison results data\n",
    "comparison_results = pd.read_csv('comparison_results.csv')\n",
    "\n",
    "# Reshape data for easy plotting\n",
    "comparison_results = comparison_results.set_index('Language').T\n",
    "\n",
    "# Create a grouped bar plot\n",
    "plt.figure(figsize=(10, 6))\n",
    "sns.barplot(data=comparison_results)\n",
    "plt.title('Comparison of Languages Across Different Metrics')\n",
    "plt.ylabel('Scores')\n",
    "plt.xlabel('Metrics')\n",
    "plt.xticks(rotation=45, ha='right')\n",
    "plt.show()"
   ]
  },
  {
   "cell_type": "code",
   "execution_count": null,
   "id": "648c22ed-3f11-4c9c-92d0-69152061bc0c",
   "metadata": {},
   "outputs": [],
   "source": []
  },
  {
   "cell_type": "code",
   "execution_count": null,
   "id": "16c3c9fe-3507-489f-8bcb-564a3c6cb59e",
   "metadata": {},
   "outputs": [],
   "source": []
  }
 ],
 "metadata": {
  "kernelspec": {
   "display_name": "Python 3 (ipykernel)",
   "language": "python",
   "name": "python3"
  },
  "language_info": {
   "codemirror_mode": {
    "name": "ipython",
    "version": 3
   },
   "file_extension": ".py",
   "mimetype": "text/x-python",
   "name": "python",
   "nbconvert_exporter": "python",
   "pygments_lexer": "ipython3",
   "version": "3.12.4"
  }
 },
 "nbformat": 4,
 "nbformat_minor": 5
}
