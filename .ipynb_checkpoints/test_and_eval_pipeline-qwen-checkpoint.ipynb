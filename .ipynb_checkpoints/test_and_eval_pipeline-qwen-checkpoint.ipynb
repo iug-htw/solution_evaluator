{
 "cells": [
  {
   "cell_type": "code",
   "execution_count": 2,
   "id": "a950d6f3-ff7e-4aa2-956e-e6a19e9836ea",
   "metadata": {},
   "outputs": [
    {
     "name": "stderr",
     "output_type": "stream",
     "text": [
      "C:\\Users\\IuG_Lap1\\AppData\\Local\\Programs\\Python\\Python312\\Lib\\site-packages\\tqdm\\auto.py:21: TqdmWarning: IProgress not found. Please update jupyter and ipywidgets. See https://ipywidgets.readthedocs.io/en/stable/user_install.html\n",
      "  from .autonotebook import tqdm as notebook_tqdm\n"
     ]
    }
   ],
   "source": [
    "import pandas as pd\n",
    "import openai\n",
    "from dotenv import load_dotenv\n",
    "import matplotlib.pyplot as plt\n",
    "import seaborn as sns\n",
    "import numpy as np\n",
    "import time\n",
    "import argparse\n",
    "import csv\n",
    "import os\n",
    "\n",
    "from _0_prepare_tasks import clean_csv\n",
    "from _1_translate_tasks import translate_csv\n",
    "from qwen_plus._2_solve_tasks_qwen import solve_tasks\n",
    "from qwen_plus._3_technical_terms_qwen import extract_technical_terms\n",
    "from _5_cross_lang_validation import compare_results"
   ]
  },
  {
   "cell_type": "code",
   "execution_count": 4,
   "id": "d565a797-88d3-4eb8-bf3b-4e8f0803c563",
   "metadata": {},
   "outputs": [],
   "source": [
    "cleaned_exercises = \"topic_areas_cleaned.csv\"\n",
    "translated_exercises_de = \"topic_areas_cleaned_de.csv\"\n",
    "translated_exercises_ar = \"topic_areas_cleaned_ar.csv\""
   ]
  },
  {
   "cell_type": "markdown",
   "id": "fed40a2e-2aae-4641-b7ff-391945d78764",
   "metadata": {},
   "source": [
    "## Solving Exercises"
   ]
  },
  {
   "cell_type": "code",
   "execution_count": null,
   "id": "97c0a148-916c-4688-946c-2ffd3c756d87",
   "metadata": {},
   "outputs": [],
   "source": [
    "solved_exercises_en = \"qwen_plus/topic_areas_solutions_en.csv\"\n",
    "solved_exercises_de = \"qwen_plus/topic_areas_solutions_de.csv\"\n",
    "solved_exercises_ar = \"qwen_plus/topic_areas_solutions_ar.csv\""
   ]
  },
  {
   "cell_type": "code",
   "execution_count": 5,
   "id": "928a06ce-f273-41f8-b87e-96e3e6e72b21",
   "metadata": {},
   "outputs": [],
   "source": [
    "import importlib\n",
    "import qwen_plus._2_solve_tasks_qwen\n",
    "\n",
    "importlib.reload(qwen_plus._2_solve_tasks_qwen)\n",
    "from qwen_plus._2_solve_tasks_qwen import solve_tasks"
   ]
  },
  {
   "cell_type": "code",
   "execution_count": null,
   "id": "5f80d47e-470d-432b-8b6b-f5923be9a3e2",
   "metadata": {},
   "outputs": [],
   "source": [
    "solve_tasks(cleaned_exercises, solved_exercises_en)\n",
    "print(f\"Solved tasks in English saved to {solved_exercises_en}\")"
   ]
  },
  {
   "cell_type": "code",
   "execution_count": null,
   "id": "d1a1a47e-7198-49a7-9974-5522867f0366",
   "metadata": {},
   "outputs": [],
   "source": []
  }
 ],
 "metadata": {
  "kernelspec": {
   "display_name": "Python 3 (ipykernel)",
   "language": "python",
   "name": "python3"
  },
  "language_info": {
   "codemirror_mode": {
    "name": "ipython",
    "version": 3
   },
   "file_extension": ".py",
   "mimetype": "text/x-python",
   "name": "python",
   "nbconvert_exporter": "python",
   "pygments_lexer": "ipython3",
   "version": "3.12.4"
  }
 },
 "nbformat": 4,
 "nbformat_minor": 5
}
